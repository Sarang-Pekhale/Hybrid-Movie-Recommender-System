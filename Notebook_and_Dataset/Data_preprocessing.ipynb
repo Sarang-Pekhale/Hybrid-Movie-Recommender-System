{
 "cells": [
  {
   "cell_type": "markdown",
   "id": "ebe7c085-7e0c-40b6-a61e-9e86c3b817ce",
   "metadata": {},
   "source": [
    "# <b>Machine Learning Mini Project.</b>\n",
    "## <b>Title : Movie Recommender System.</b>\n",
    "### Name : Sarang Manoj Pekhale.\n",
    "### Roll No. : MT2212"
   ]
  },
  {
   "cell_type": "markdown",
   "id": "79e6b9c2-7a5b-4a48-9579-643b1fb59996",
   "metadata": {},
   "source": [
    "### <b>Introduction : </b>\n",
    "<ol>\n",
    "<li><b>Movie Recommender System :</b></li>\n",
    "A movie recommender system is a specialized software application or algorithm that suggests movies to users based on their individual preferences and historical interactions with movie-related data. These systems leverage various techniques, such as collaborative filtering, content-based filtering, and hybrid methods, to provide personalized movie recommendations. They enhance user experiences by helping individuals discover and enjoy films that align with their tastes, ultimately increasing user engagement and satisfaction in online movie platforms and streaming services.\n",
    "\n",
    "For this project, i will be using Content-Based Movie Recommendation Systems.\n",
    "The input for building a content-based recommender system is :\n",
    "\n",
    "<ul>\n",
    "<li> Movie attributes.</li> \n",
    "<li> Convert text to vectors (Text Vectorization) using bag of words technique.</li> \n",
    "<li> Cosine similarity to find the most 5 similar vectors to the inputs given by a user.</li> \n",
    "</ul>"
   ]
  },
  {
   "cell_type": "markdown",
   "id": "ae25b465-e113-4a38-8d19-9da537c98a8b",
   "metadata": {},
   "source": [
    "### <b>Libraries required :</b>\n",
    "<ul>\n",
    "<li> <b>numpy</b> : Working with arrays, matrices, and mathematical functions.</li> \n",
    "<li> <b>pandas</b> : Data structures DataFrames and Series, for handling structured data efficiently.</li>\n",
    "<li> <b>ast</b> : Parses and evaluates literal expressions.</li>\n",
    "</ul>"
   ]
  },
  {
   "cell_type": "code",
   "execution_count": 151,
   "id": "be6b1119-e939-41a2-98c1-92f1ad9a4b55",
   "metadata": {},
   "outputs": [],
   "source": [
    "import numpy as np\n",
    "import pandas as pd\n",
    "import ast"
   ]
  },
  {
   "cell_type": "markdown",
   "id": "ab7f180c-f824-48a4-9ae3-72ea3fbcedec",
   "metadata": {},
   "source": [
    "### <b>Data Import and Preprocessing : For EDA.</b>\n",
    "In this section, I describe the process of importing, cleaning, and preprocessing the data required for our analysis. We loaded the data from external sources, performed initial data checks, and prepared it for subsequent tasks.\n",
    "\n",
    "<ul>\n",
    "<li> <b>Data Import</b> : Importing two CSV files into your Python environment using pandas, and you have created two DataFrames, df_credits and df_movies, to store and work with the data from these files.</li> \n",
    "</ul>"
   ]
  },
  {
   "cell_type": "code",
   "execution_count": 152,
   "id": "5ddd365c-3896-4048-b458-f73b67998c58",
   "metadata": {},
   "outputs": [],
   "source": [
    "df_credits = pd.read_csv(\"tmdb_5000_credits.csv\")\n",
    "df_movies = pd.read_csv(\"tmdb_5000_movies.csv\")"
   ]
  },
  {
   "cell_type": "markdown",
   "id": "b57d8b42-2904-440e-8b63-96faaee17c25",
   "metadata": {},
   "source": [
    "<ul>\n",
    "    <li> Name of Data - TMDB 5000 Movie Dataset.</li>\n",
    "    <li> Data source – Kaggle.</li> \n",
    "    <li> Data size or dimensions : Number of rows and columns in the dataset.</li>\n",
    "    </ul>\n",
    "</ul>"
   ]
  },
  {
   "cell_type": "code",
   "execution_count": 153,
   "id": "e8b04411-2870-41a8-b8c3-a4d4084a32dd",
   "metadata": {},
   "outputs": [
    {
     "name": "stdout",
     "output_type": "stream",
     "text": [
      "shape df_credits  (4803, 4)\n",
      "shape df_movies  (4803, 20)\n"
     ]
    }
   ],
   "source": [
    "print('shape df_credits ',df_credits.shape)\n",
    "print('shape df_movies ',df_movies.shape)"
   ]
  },
  {
   "cell_type": "markdown",
   "id": "9037de2e-cbcb-44eb-b440-ec22c3ab2e80",
   "metadata": {},
   "source": [
    "<ul>\n",
    "<li> Preview of the CREDITS data.</li>\n",
    "</ul>\n"
   ]
  },
  {
   "cell_type": "code",
   "execution_count": 154,
   "id": "121c0f8a-9f68-4a17-bf1e-8ba7a89ec2b5",
   "metadata": {},
   "outputs": [
    {
     "data": {
      "text/html": [
       "<div>\n",
       "<style scoped>\n",
       "    .dataframe tbody tr th:only-of-type {\n",
       "        vertical-align: middle;\n",
       "    }\n",
       "\n",
       "    .dataframe tbody tr th {\n",
       "        vertical-align: top;\n",
       "    }\n",
       "\n",
       "    .dataframe thead th {\n",
       "        text-align: right;\n",
       "    }\n",
       "</style>\n",
       "<table border=\"1\" class=\"dataframe\">\n",
       "  <thead>\n",
       "    <tr style=\"text-align: right;\">\n",
       "      <th></th>\n",
       "      <th>movie_id</th>\n",
       "      <th>title</th>\n",
       "      <th>cast</th>\n",
       "      <th>crew</th>\n",
       "    </tr>\n",
       "  </thead>\n",
       "  <tbody>\n",
       "    <tr>\n",
       "      <th>0</th>\n",
       "      <td>19995</td>\n",
       "      <td>Avatar</td>\n",
       "      <td>[{\"cast_id\": 242, \"character\": \"Jake Sully\", \"...</td>\n",
       "      <td>[{\"credit_id\": \"52fe48009251416c750aca23\", \"de...</td>\n",
       "    </tr>\n",
       "  </tbody>\n",
       "</table>\n",
       "</div>"
      ],
      "text/plain": [
       "   movie_id   title                                               cast  \\\n",
       "0     19995  Avatar  [{\"cast_id\": 242, \"character\": \"Jake Sully\", \"...   \n",
       "\n",
       "                                                crew  \n",
       "0  [{\"credit_id\": \"52fe48009251416c750aca23\", \"de...  "
      ]
     },
     "execution_count": 154,
     "metadata": {},
     "output_type": "execute_result"
    }
   ],
   "source": [
    "df_credits.head(1)"
   ]
  },
  {
   "cell_type": "markdown",
   "id": "fcef6c68-faec-4c0b-a343-7b0e25fe6a6e",
   "metadata": {},
   "source": [
    "<ul>\n",
    "<li> Preview of the MOVIES data.</li>\n",
    "</ul>"
   ]
  },
  {
   "cell_type": "code",
   "execution_count": 155,
   "id": "336e6f60-3919-4e3d-9251-4c9d08f1d84f",
   "metadata": {},
   "outputs": [
    {
     "data": {
      "text/html": [
       "<div>\n",
       "<style scoped>\n",
       "    .dataframe tbody tr th:only-of-type {\n",
       "        vertical-align: middle;\n",
       "    }\n",
       "\n",
       "    .dataframe tbody tr th {\n",
       "        vertical-align: top;\n",
       "    }\n",
       "\n",
       "    .dataframe thead th {\n",
       "        text-align: right;\n",
       "    }\n",
       "</style>\n",
       "<table border=\"1\" class=\"dataframe\">\n",
       "  <thead>\n",
       "    <tr style=\"text-align: right;\">\n",
       "      <th></th>\n",
       "      <th>budget</th>\n",
       "      <th>genres</th>\n",
       "      <th>homepage</th>\n",
       "      <th>id</th>\n",
       "      <th>keywords</th>\n",
       "      <th>original_language</th>\n",
       "      <th>original_title</th>\n",
       "      <th>overview</th>\n",
       "      <th>popularity</th>\n",
       "      <th>production_companies</th>\n",
       "      <th>production_countries</th>\n",
       "      <th>release_date</th>\n",
       "      <th>revenue</th>\n",
       "      <th>runtime</th>\n",
       "      <th>spoken_languages</th>\n",
       "      <th>status</th>\n",
       "      <th>tagline</th>\n",
       "      <th>title</th>\n",
       "      <th>vote_average</th>\n",
       "      <th>vote_count</th>\n",
       "    </tr>\n",
       "  </thead>\n",
       "  <tbody>\n",
       "    <tr>\n",
       "      <th>0</th>\n",
       "      <td>237000000</td>\n",
       "      <td>[{\"id\": 28, \"name\": \"Action\"}, {\"id\": 12, \"nam...</td>\n",
       "      <td>http://www.avatarmovie.com/</td>\n",
       "      <td>19995</td>\n",
       "      <td>[{\"id\": 1463, \"name\": \"culture clash\"}, {\"id\":...</td>\n",
       "      <td>en</td>\n",
       "      <td>Avatar</td>\n",
       "      <td>In the 22nd century, a paraplegic Marine is di...</td>\n",
       "      <td>150.437577</td>\n",
       "      <td>[{\"name\": \"Ingenious Film Partners\", \"id\": 289...</td>\n",
       "      <td>[{\"iso_3166_1\": \"US\", \"name\": \"United States o...</td>\n",
       "      <td>2009-12-10</td>\n",
       "      <td>2787965087</td>\n",
       "      <td>162.0</td>\n",
       "      <td>[{\"iso_639_1\": \"en\", \"name\": \"English\"}, {\"iso...</td>\n",
       "      <td>Released</td>\n",
       "      <td>Enter the World of Pandora.</td>\n",
       "      <td>Avatar</td>\n",
       "      <td>7.2</td>\n",
       "      <td>11800</td>\n",
       "    </tr>\n",
       "  </tbody>\n",
       "</table>\n",
       "</div>"
      ],
      "text/plain": [
       "      budget                                             genres  \\\n",
       "0  237000000  [{\"id\": 28, \"name\": \"Action\"}, {\"id\": 12, \"nam...   \n",
       "\n",
       "                      homepage     id  \\\n",
       "0  http://www.avatarmovie.com/  19995   \n",
       "\n",
       "                                            keywords original_language  \\\n",
       "0  [{\"id\": 1463, \"name\": \"culture clash\"}, {\"id\":...                en   \n",
       "\n",
       "  original_title                                           overview  \\\n",
       "0         Avatar  In the 22nd century, a paraplegic Marine is di...   \n",
       "\n",
       "   popularity                               production_companies  \\\n",
       "0  150.437577  [{\"name\": \"Ingenious Film Partners\", \"id\": 289...   \n",
       "\n",
       "                                production_countries release_date     revenue  \\\n",
       "0  [{\"iso_3166_1\": \"US\", \"name\": \"United States o...   2009-12-10  2787965087   \n",
       "\n",
       "   runtime                                   spoken_languages    status  \\\n",
       "0    162.0  [{\"iso_639_1\": \"en\", \"name\": \"English\"}, {\"iso...  Released   \n",
       "\n",
       "                       tagline   title  vote_average  vote_count  \n",
       "0  Enter the World of Pandora.  Avatar           7.2       11800  "
      ]
     },
     "execution_count": 155,
     "metadata": {},
     "output_type": "execute_result"
    }
   ],
   "source": [
    "df_movies.head(1)"
   ]
  },
  {
   "cell_type": "markdown",
   "id": "c0d84757-edf6-4a23-aea3-de2026d001af",
   "metadata": {},
   "source": [
    "<ul>\n",
    "    <li> Rename the 'movie_id' column to 'id' in the first dataframe.</li>\n",
    "    <li> Remove the title column from CREDITS dataset to avoid duplicate columns.</li> \n",
    "    <li> Merge the two dataframes CREDITS and MOVIES based on the common 'id' column.</li> \n",
    "    </ul>\n",
    "</ul>"
   ]
  },
  {
   "cell_type": "code",
   "execution_count": 156,
   "id": "e3a1c12e-8a03-41c7-8d1f-021c9ed45c4b",
   "metadata": {},
   "outputs": [
    {
     "name": "stdout",
     "output_type": "stream",
     "text": [
      "shape df  (4803, 22)\n"
     ]
    }
   ],
   "source": [
    "df_credits = df_credits.rename(columns={'movie_id': 'id'})\n",
    "df_credits=df_credits.drop('title',axis=1)\n",
    "\n",
    "df = df_credits.merge(df_movies, on='id')\n",
    "print('shape df ',df.shape)"
   ]
  },
  {
   "cell_type": "markdown",
   "id": "c097adeb-8636-4079-a958-5f7e2942567c",
   "metadata": {},
   "source": [
    "<ul>\n",
    "    <li> Descriptive statistics of a DataFrame.</li>\n",
    "</ul>"
   ]
  },
  {
   "cell_type": "code",
   "execution_count": 157,
   "id": "249966a2-090b-44a1-8f39-e3921dfd36e1",
   "metadata": {},
   "outputs": [
    {
     "data": {
      "text/html": [
       "<div>\n",
       "<style scoped>\n",
       "    .dataframe tbody tr th:only-of-type {\n",
       "        vertical-align: middle;\n",
       "    }\n",
       "\n",
       "    .dataframe tbody tr th {\n",
       "        vertical-align: top;\n",
       "    }\n",
       "\n",
       "    .dataframe thead th {\n",
       "        text-align: right;\n",
       "    }\n",
       "</style>\n",
       "<table border=\"1\" class=\"dataframe\">\n",
       "  <thead>\n",
       "    <tr style=\"text-align: right;\">\n",
       "      <th></th>\n",
       "      <th>id</th>\n",
       "      <th>budget</th>\n",
       "      <th>popularity</th>\n",
       "      <th>revenue</th>\n",
       "      <th>runtime</th>\n",
       "      <th>vote_average</th>\n",
       "      <th>vote_count</th>\n",
       "    </tr>\n",
       "  </thead>\n",
       "  <tbody>\n",
       "    <tr>\n",
       "      <th>count</th>\n",
       "      <td>4803.000000</td>\n",
       "      <td>4.803000e+03</td>\n",
       "      <td>4803.000000</td>\n",
       "      <td>4.803000e+03</td>\n",
       "      <td>4801.000000</td>\n",
       "      <td>4803.000000</td>\n",
       "      <td>4803.000000</td>\n",
       "    </tr>\n",
       "    <tr>\n",
       "      <th>mean</th>\n",
       "      <td>57165.484281</td>\n",
       "      <td>2.904504e+07</td>\n",
       "      <td>21.492301</td>\n",
       "      <td>8.226064e+07</td>\n",
       "      <td>106.875859</td>\n",
       "      <td>6.092172</td>\n",
       "      <td>690.217989</td>\n",
       "    </tr>\n",
       "    <tr>\n",
       "      <th>std</th>\n",
       "      <td>88694.614033</td>\n",
       "      <td>4.072239e+07</td>\n",
       "      <td>31.816650</td>\n",
       "      <td>1.628571e+08</td>\n",
       "      <td>22.611935</td>\n",
       "      <td>1.194612</td>\n",
       "      <td>1234.585891</td>\n",
       "    </tr>\n",
       "    <tr>\n",
       "      <th>min</th>\n",
       "      <td>5.000000</td>\n",
       "      <td>0.000000e+00</td>\n",
       "      <td>0.000000</td>\n",
       "      <td>0.000000e+00</td>\n",
       "      <td>0.000000</td>\n",
       "      <td>0.000000</td>\n",
       "      <td>0.000000</td>\n",
       "    </tr>\n",
       "    <tr>\n",
       "      <th>25%</th>\n",
       "      <td>9014.500000</td>\n",
       "      <td>7.900000e+05</td>\n",
       "      <td>4.668070</td>\n",
       "      <td>0.000000e+00</td>\n",
       "      <td>94.000000</td>\n",
       "      <td>5.600000</td>\n",
       "      <td>54.000000</td>\n",
       "    </tr>\n",
       "    <tr>\n",
       "      <th>50%</th>\n",
       "      <td>14629.000000</td>\n",
       "      <td>1.500000e+07</td>\n",
       "      <td>12.921594</td>\n",
       "      <td>1.917000e+07</td>\n",
       "      <td>103.000000</td>\n",
       "      <td>6.200000</td>\n",
       "      <td>235.000000</td>\n",
       "    </tr>\n",
       "    <tr>\n",
       "      <th>75%</th>\n",
       "      <td>58610.500000</td>\n",
       "      <td>4.000000e+07</td>\n",
       "      <td>28.313505</td>\n",
       "      <td>9.291719e+07</td>\n",
       "      <td>118.000000</td>\n",
       "      <td>6.800000</td>\n",
       "      <td>737.000000</td>\n",
       "    </tr>\n",
       "    <tr>\n",
       "      <th>max</th>\n",
       "      <td>459488.000000</td>\n",
       "      <td>3.800000e+08</td>\n",
       "      <td>875.581305</td>\n",
       "      <td>2.787965e+09</td>\n",
       "      <td>338.000000</td>\n",
       "      <td>10.000000</td>\n",
       "      <td>13752.000000</td>\n",
       "    </tr>\n",
       "  </tbody>\n",
       "</table>\n",
       "</div>"
      ],
      "text/plain": [
       "                  id        budget   popularity       revenue      runtime  \\\n",
       "count    4803.000000  4.803000e+03  4803.000000  4.803000e+03  4801.000000   \n",
       "mean    57165.484281  2.904504e+07    21.492301  8.226064e+07   106.875859   \n",
       "std     88694.614033  4.072239e+07    31.816650  1.628571e+08    22.611935   \n",
       "min         5.000000  0.000000e+00     0.000000  0.000000e+00     0.000000   \n",
       "25%      9014.500000  7.900000e+05     4.668070  0.000000e+00    94.000000   \n",
       "50%     14629.000000  1.500000e+07    12.921594  1.917000e+07   103.000000   \n",
       "75%     58610.500000  4.000000e+07    28.313505  9.291719e+07   118.000000   \n",
       "max    459488.000000  3.800000e+08   875.581305  2.787965e+09   338.000000   \n",
       "\n",
       "       vote_average    vote_count  \n",
       "count   4803.000000   4803.000000  \n",
       "mean       6.092172    690.217989  \n",
       "std        1.194612   1234.585891  \n",
       "min        0.000000      0.000000  \n",
       "25%        5.600000     54.000000  \n",
       "50%        6.200000    235.000000  \n",
       "75%        6.800000    737.000000  \n",
       "max       10.000000  13752.000000  "
      ]
     },
     "execution_count": 157,
     "metadata": {},
     "output_type": "execute_result"
    }
   ],
   "source": [
    "df.describe()"
   ]
  },
  {
   "cell_type": "markdown",
   "id": "2eb04d03-bba9-4451-82f5-09a0c24f5cdd",
   "metadata": {},
   "source": [
    "<ul>\n",
    "    <li> Summary of the DataFrame's basic information.</li>\n",
    "</ul>"
   ]
  },
  {
   "cell_type": "code",
   "execution_count": 158,
   "id": "51530d67-025d-450e-99be-3133e87719d4",
   "metadata": {},
   "outputs": [
    {
     "name": "stdout",
     "output_type": "stream",
     "text": [
      "<class 'pandas.core.frame.DataFrame'>\n",
      "RangeIndex: 4803 entries, 0 to 4802\n",
      "Data columns (total 22 columns):\n",
      " #   Column                Non-Null Count  Dtype  \n",
      "---  ------                --------------  -----  \n",
      " 0   id                    4803 non-null   int64  \n",
      " 1   cast                  4803 non-null   object \n",
      " 2   crew                  4803 non-null   object \n",
      " 3   budget                4803 non-null   int64  \n",
      " 4   genres                4803 non-null   object \n",
      " 5   homepage              1712 non-null   object \n",
      " 6   keywords              4803 non-null   object \n",
      " 7   original_language     4803 non-null   object \n",
      " 8   original_title        4803 non-null   object \n",
      " 9   overview              4800 non-null   object \n",
      " 10  popularity            4803 non-null   float64\n",
      " 11  production_companies  4803 non-null   object \n",
      " 12  production_countries  4803 non-null   object \n",
      " 13  release_date          4802 non-null   object \n",
      " 14  revenue               4803 non-null   int64  \n",
      " 15  runtime               4801 non-null   float64\n",
      " 16  spoken_languages      4803 non-null   object \n",
      " 17  status                4803 non-null   object \n",
      " 18  tagline               3959 non-null   object \n",
      " 19  title                 4803 non-null   object \n",
      " 20  vote_average          4803 non-null   float64\n",
      " 21  vote_count            4803 non-null   int64  \n",
      "dtypes: float64(3), int64(4), object(15)\n",
      "memory usage: 825.6+ KB\n"
     ]
    }
   ],
   "source": [
    "df.info()"
   ]
  },
  {
   "cell_type": "markdown",
   "id": "98ce5634-c539-46ed-b6c6-70ca207db33f",
   "metadata": {},
   "source": [
    "<ul>\n",
    "    <li> Identify the columns in the DataFrame df that have numeric datatype.</li>\n",
    "</ul>"
   ]
  },
  {
   "cell_type": "code",
   "execution_count": 159,
   "id": "dda3e86b-0753-4099-95c9-aa0676a55e21",
   "metadata": {},
   "outputs": [
    {
     "data": {
      "text/plain": [
       "Index(['id', 'budget', 'popularity', 'revenue', 'runtime', 'vote_average',\n",
       "       'vote_count'],\n",
       "      dtype='object')"
      ]
     },
     "execution_count": 159,
     "metadata": {},
     "output_type": "execute_result"
    }
   ],
   "source": [
    "num_col = df.dtypes[df.dtypes != 'object'].index\n",
    "num_col"
   ]
  },
  {
   "cell_type": "markdown",
   "id": "20dc226b-65e1-4741-8cd7-5b926ac78f5d",
   "metadata": {},
   "source": [
    "<ul>\n",
    "    <li> Count the number of missing (null) values in each column of a DataFrame df. </li>\n",
    "</ul>"
   ]
  },
  {
   "cell_type": "code",
   "execution_count": 160,
   "id": "2242a6a2-0f75-407f-89b9-d10b8843a9a2",
   "metadata": {},
   "outputs": [
    {
     "data": {
      "text/plain": [
       "id                         0\n",
       "cast                       0\n",
       "crew                       0\n",
       "budget                     0\n",
       "genres                     0\n",
       "homepage                3091\n",
       "keywords                   0\n",
       "original_language          0\n",
       "original_title             0\n",
       "overview                   3\n",
       "popularity                 0\n",
       "production_companies       0\n",
       "production_countries       0\n",
       "release_date               1\n",
       "revenue                    0\n",
       "runtime                    2\n",
       "spoken_languages           0\n",
       "status                     0\n",
       "tagline                  844\n",
       "title                      0\n",
       "vote_average               0\n",
       "vote_count                 0\n",
       "dtype: int64"
      ]
     },
     "execution_count": 160,
     "metadata": {},
     "output_type": "execute_result"
    }
   ],
   "source": [
    "df.isnull().sum()"
   ]
  },
  {
   "cell_type": "markdown",
   "id": "4aaf8895-4cfd-4e70-b3ed-caef92d72cbf",
   "metadata": {},
   "source": [
    "<ul>\n",
    "    <li> The 'homepage,' 'tagline,' and 'spoken_languages' columns are removed, because first two contain lots of null values and since i am working on Hollywood movies dataset, therefore language will be english only. </li>\n",
    "</ul>"
   ]
  },
  {
   "cell_type": "code",
   "execution_count": 161,
   "id": "76f646a5-8478-4f10-a0a6-c272920da1d0",
   "metadata": {},
   "outputs": [],
   "source": [
    "df=df.drop('homepage',axis=1)\n",
    "df=df.drop('tagline',axis=1)\n",
    "df=df.drop('spoken_languages',axis=1)"
   ]
  },
  {
   "cell_type": "markdown",
   "id": "3e949391-0feb-4a97-b131-77430bd3d395",
   "metadata": {},
   "source": [
    "<ul>\n",
    "    <li> Remove rows with missing values from the DataFrame df. </li>\n",
    "</ul>"
   ]
  },
  {
   "cell_type": "code",
   "execution_count": 162,
   "id": "f2adc8b1-d4b0-498b-9786-95680c336714",
   "metadata": {},
   "outputs": [],
   "source": [
    "df.dropna(inplace=True)"
   ]
  },
  {
   "cell_type": "code",
   "execution_count": 163,
   "id": "40949f21-2a28-47e0-a901-53a6510c4fb7",
   "metadata": {},
   "outputs": [
    {
     "data": {
      "text/plain": [
       "id                      0\n",
       "cast                    0\n",
       "crew                    0\n",
       "budget                  0\n",
       "genres                  0\n",
       "keywords                0\n",
       "original_language       0\n",
       "original_title          0\n",
       "overview                0\n",
       "popularity              0\n",
       "production_companies    0\n",
       "production_countries    0\n",
       "release_date            0\n",
       "revenue                 0\n",
       "runtime                 0\n",
       "status                  0\n",
       "title                   0\n",
       "vote_average            0\n",
       "vote_count              0\n",
       "dtype: int64"
      ]
     },
     "execution_count": 163,
     "metadata": {},
     "output_type": "execute_result"
    }
   ],
   "source": [
    "df.isnull().sum()"
   ]
  },
  {
   "cell_type": "markdown",
   "id": "afdb6deb-8f1a-4330-861f-7c288c96d52d",
   "metadata": {},
   "source": [
    "<ul>\n",
    "    <li> Check for duplicate columns and duplicate rows in the DataFrame df. </li>\n",
    "</ul>\n"
   ]
  },
  {
   "cell_type": "code",
   "execution_count": 164,
   "id": "8189c6fb-f7fb-40ac-8196-904b03943eea",
   "metadata": {},
   "outputs": [
    {
     "name": "stdout",
     "output_type": "stream",
     "text": [
      "0\n",
      "0\n"
     ]
    }
   ],
   "source": [
    "print(df.columns.duplicated().sum())\n",
    "print(df.duplicated().sum())"
   ]
  },
  {
   "cell_type": "markdown",
   "id": "c964cd6e-0c7b-41a4-8236-62ac4fa183d1",
   "metadata": {},
   "source": [
    "<ul>\n",
    "    <li> 'original_title' and 'title' are approximately same that's why i will remove 'original_title' column. </li>\n",
    "</ul>"
   ]
  },
  {
   "cell_type": "code",
   "execution_count": 165,
   "id": "56256480-e713-4a97-81aa-6e4ec304de84",
   "metadata": {},
   "outputs": [
    {
     "data": {
      "text/plain": [
       "Index(['id', 'cast', 'crew', 'budget', 'genres', 'keywords',\n",
       "       'original_language', 'overview', 'popularity', 'production_companies',\n",
       "       'production_countries', 'release_date', 'revenue', 'runtime', 'status',\n",
       "       'title', 'vote_average', 'vote_count'],\n",
       "      dtype='object')"
      ]
     },
     "execution_count": 165,
     "metadata": {},
     "output_type": "execute_result"
    }
   ],
   "source": [
    "df=df.drop('original_title',axis=1)\n",
    "df.columns"
   ]
  },
  {
   "cell_type": "markdown",
   "id": "dcc072c8-2489-41d1-a427-d66f9428a79b",
   "metadata": {},
   "source": [
    "<ul>\n",
    "    <li> I want names from dictionaries of the observations of particular columns which are given in the below format.</li>\n",
    "</ul>"
   ]
  },
  {
   "cell_type": "code",
   "execution_count": 166,
   "id": "6103e591-f522-40ba-a43f-cca6ed9a5264",
   "metadata": {},
   "outputs": [
    {
     "data": {
      "text/plain": [
       "'[{\"id\": 28, \"name\": \"Action\"}, {\"id\": 12, \"name\": \"Adventure\"}, {\"id\": 14, \"name\": \"Fantasy\"}, {\"id\": 878, \"name\": \"Science Fiction\"}]'"
      ]
     },
     "execution_count": 166,
     "metadata": {},
     "output_type": "execute_result"
    }
   ],
   "source": [
    "df.iloc[0].genres"
   ]
  },
  {
   "cell_type": "markdown",
   "id": "a789ff90-4a8a-45a3-8230-47b73754ff82",
   "metadata": {},
   "source": [
    "<ul>\n",
    "    <li>  The function is designed to convert a string containing a list of dictionaries into a list of values extracted from a specific key within those dictionaries. </li>\n",
    "    <li> The ast.literal_eval(obj) function is used to safely evaluate (parse and execute) a single expression in a string format containing a literal Python data structure.</li>\n",
    "</ul>"
   ]
  },
  {
   "cell_type": "code",
   "execution_count": 167,
   "id": "b3b296c0-d754-433b-a586-bb20108f9045",
   "metadata": {},
   "outputs": [],
   "source": [
    "def convert(obj):\n",
    "    # import ast\n",
    "    L = []\n",
    "    for i in ast.literal_eval(obj):\n",
    "        L.append(i[\"name\"])\n",
    "    return L"
   ]
  },
  {
   "cell_type": "code",
   "execution_count": 168,
   "id": "d5e9364d-75ff-4097-b6b4-1baf36fd9952",
   "metadata": {},
   "outputs": [],
   "source": [
    "df[\"keywords\"] = df[\"keywords\"].apply(convert)\n",
    "df[\"genres\"] = df[\"genres\"].apply(convert)\n",
    "df[\"production_companies\"] = df[\"production_companies\"].apply(convert)\n",
    "df[\"production_countries\"] = df[\"production_countries\"].apply(convert)"
   ]
  },
  {
   "cell_type": "markdown",
   "id": "dd2322fc-bd63-4a58-842a-153d0fda03be",
   "metadata": {},
   "source": [
    "<ul>\n",
    "    <li> I will consider only first three names of the cast.</li>\n",
    "</ul>"
   ]
  },
  {
   "cell_type": "code",
   "execution_count": null,
   "id": "17d39ba5-d119-42ff-8bb1-f4ac372759d8",
   "metadata": {},
   "outputs": [],
   "source": [
    "df.iloc[0].cast"
   ]
  },
  {
   "cell_type": "markdown",
   "id": "472e8d2e-2229-4ed2-986d-02b09a465dab",
   "metadata": {},
   "source": [
    "<ul>\n",
    "    <li> Same function as convert, but considering only first three entries.</li>\n",
    "</ul>"
   ]
  },
  {
   "cell_type": "code",
   "execution_count": 170,
   "id": "5bbb69af-15a9-45ae-9461-be4daf7bd63e",
   "metadata": {},
   "outputs": [],
   "source": [
    "def convert3(obj):\n",
    "    # import ast\n",
    "    L = []\n",
    "    counter = 0\n",
    "    for i in ast.literal_eval(obj):\n",
    "        if counter != 3:\n",
    "            L.append(i[\"name\"])\n",
    "            counter += 1\n",
    "        else:\n",
    "            break\n",
    "    return L"
   ]
  },
  {
   "cell_type": "code",
   "execution_count": 171,
   "id": "0d848a3f-e1ad-412a-8cd2-0a8e3f389029",
   "metadata": {},
   "outputs": [],
   "source": [
    "df[\"cast\"] = df[\"cast\"].apply(convert3)"
   ]
  },
  {
   "cell_type": "markdown",
   "id": "588afaa4-7474-48d5-8d97-af68b91825cb",
   "metadata": {},
   "source": [
    "<ul>\n",
    "    <li> From crew i will bw considering only director's name.</li>\n",
    "</ul>"
   ]
  },
  {
   "cell_type": "code",
   "execution_count": null,
   "id": "e0bff5fe-f023-4bf6-8782-2dbc483c3b8d",
   "metadata": {},
   "outputs": [],
   "source": [
    "df.iloc[0].crew"
   ]
  },
  {
   "cell_type": "markdown",
   "id": "3dd43f4b-bec1-438d-8d4e-b2a647ccc592",
   "metadata": {},
   "source": [
    "<ul>\n",
    "    <li> Same function as convert, but this time finding values from director key.</li>\n",
    "</ul>"
   ]
  },
  {
   "cell_type": "code",
   "execution_count": 173,
   "id": "c4f13940-040c-4295-ac05-ed487836f1a4",
   "metadata": {},
   "outputs": [],
   "source": [
    "def fetch_director(obj):\n",
    "    # import ast\n",
    "    L = []\n",
    "    for i in ast.literal_eval(obj):\n",
    "        if i[\"job\"] == \"Director\":\n",
    "            L.append(i[\"name\"])\n",
    "            break\n",
    "    return L"
   ]
  },
  {
   "cell_type": "code",
   "execution_count": 174,
   "id": "2086ad4e-3911-4792-831f-24ded22e67e3",
   "metadata": {},
   "outputs": [],
   "source": [
    "df[\"crew\"] = df[\"crew\"].apply(fetch_director)"
   ]
  },
  {
   "cell_type": "markdown",
   "id": "712ef49c-4b14-4d67-9fbb-cffdf809329b",
   "metadata": {},
   "source": [
    "<ul>\n",
    "    <li> Same function as convert, but this time finding values from director key.</li>\n",
    "</ul>"
   ]
  },
  {
   "cell_type": "markdown",
   "id": "08f3667b-3f1c-44de-8adb-9679ff6b3563",
   "metadata": {},
   "source": [
    "### <b>Data Import and Preprocessing : For Model building.</b>\n",
    "In this section, I will perform same processes as performed earlier but with respect to what does my model needs."
   ]
  },
  {
   "cell_type": "code",
   "execution_count": 175,
   "id": "4a8205d4-afc5-4250-8814-29942b81784d",
   "metadata": {},
   "outputs": [],
   "source": [
    "movies = pd.read_csv(\"tmdb_5000_movies.csv\")\n",
    "credits = pd.read_csv(\"tmdb_5000_credits.csv\")"
   ]
  },
  {
   "cell_type": "code",
   "execution_count": 176,
   "id": "c1f3cdba-e5fe-413d-b13a-8e88146b72e9",
   "metadata": {},
   "outputs": [],
   "source": [
    "movies = movies.merge(credits,on=\"title\")"
   ]
  },
  {
   "cell_type": "markdown",
   "id": "ce65de96-db55-43e9-a004-536bb4767c50",
   "metadata": {},
   "source": [
    "<ul>\n",
    "    <li> Based on model's requirement i will need following features only 'genres', 'id', 'keywords', 'title', 'overview', 'cast', 'crew'.</li>\n",
    "    <li> Merging all the above features into one.</li>\n",
    "</ul>"
   ]
  },
  {
   "cell_type": "code",
   "execution_count": 177,
   "id": "fa001758-455b-4c26-956f-68124a05bdde",
   "metadata": {},
   "outputs": [],
   "source": [
    "movies = movies[[\"movie_id\",\"title\",\"overview\",\"genres\",\"keywords\",\"cast\",\"crew\"]]"
   ]
  },
  {
   "cell_type": "markdown",
   "id": "701152c4-a263-4520-ace2-f1daea836aa6",
   "metadata": {},
   "source": [
    "<ul>\n",
    "    <li> Summary of the Dataframe movies.</li>\n",
    "</ul>"
   ]
  },
  {
   "cell_type": "code",
   "execution_count": 178,
   "id": "699a7bd6-766a-4c3e-a155-86a5b25b376a",
   "metadata": {},
   "outputs": [
    {
     "name": "stdout",
     "output_type": "stream",
     "text": [
      "<class 'pandas.core.frame.DataFrame'>\n",
      "RangeIndex: 4809 entries, 0 to 4808\n",
      "Data columns (total 7 columns):\n",
      " #   Column    Non-Null Count  Dtype \n",
      "---  ------    --------------  ----- \n",
      " 0   movie_id  4809 non-null   int64 \n",
      " 1   title     4809 non-null   object\n",
      " 2   overview  4806 non-null   object\n",
      " 3   genres    4809 non-null   object\n",
      " 4   keywords  4809 non-null   object\n",
      " 5   cast      4809 non-null   object\n",
      " 6   crew      4809 non-null   object\n",
      "dtypes: int64(1), object(6)\n",
      "memory usage: 263.1+ KB\n"
     ]
    }
   ],
   "source": [
    "movies.info()"
   ]
  },
  {
   "cell_type": "markdown",
   "id": "701848c4-d8da-411b-a983-57ed2b17de28",
   "metadata": {},
   "source": [
    "<ul>\n",
    "    <li> Preview of the Dataframe movies.</li>\n",
    "</ul>"
   ]
  },
  {
   "cell_type": "code",
   "execution_count": 179,
   "id": "d925487f-9c3a-48d8-81b0-127b7b825244",
   "metadata": {},
   "outputs": [
    {
     "data": {
      "text/html": [
       "<div>\n",
       "<style scoped>\n",
       "    .dataframe tbody tr th:only-of-type {\n",
       "        vertical-align: middle;\n",
       "    }\n",
       "\n",
       "    .dataframe tbody tr th {\n",
       "        vertical-align: top;\n",
       "    }\n",
       "\n",
       "    .dataframe thead th {\n",
       "        text-align: right;\n",
       "    }\n",
       "</style>\n",
       "<table border=\"1\" class=\"dataframe\">\n",
       "  <thead>\n",
       "    <tr style=\"text-align: right;\">\n",
       "      <th></th>\n",
       "      <th>movie_id</th>\n",
       "      <th>title</th>\n",
       "      <th>overview</th>\n",
       "      <th>genres</th>\n",
       "      <th>keywords</th>\n",
       "      <th>cast</th>\n",
       "      <th>crew</th>\n",
       "    </tr>\n",
       "  </thead>\n",
       "  <tbody>\n",
       "    <tr>\n",
       "      <th>0</th>\n",
       "      <td>19995</td>\n",
       "      <td>Avatar</td>\n",
       "      <td>In the 22nd century, a paraplegic Marine is di...</td>\n",
       "      <td>[{\"id\": 28, \"name\": \"Action\"}, {\"id\": 12, \"nam...</td>\n",
       "      <td>[{\"id\": 1463, \"name\": \"culture clash\"}, {\"id\":...</td>\n",
       "      <td>[{\"cast_id\": 242, \"character\": \"Jake Sully\", \"...</td>\n",
       "      <td>[{\"credit_id\": \"52fe48009251416c750aca23\", \"de...</td>\n",
       "    </tr>\n",
       "  </tbody>\n",
       "</table>\n",
       "</div>"
      ],
      "text/plain": [
       "   movie_id   title                                           overview  \\\n",
       "0     19995  Avatar  In the 22nd century, a paraplegic Marine is di...   \n",
       "\n",
       "                                              genres  \\\n",
       "0  [{\"id\": 28, \"name\": \"Action\"}, {\"id\": 12, \"nam...   \n",
       "\n",
       "                                            keywords  \\\n",
       "0  [{\"id\": 1463, \"name\": \"culture clash\"}, {\"id\":...   \n",
       "\n",
       "                                                cast  \\\n",
       "0  [{\"cast_id\": 242, \"character\": \"Jake Sully\", \"...   \n",
       "\n",
       "                                                crew  \n",
       "0  [{\"credit_id\": \"52fe48009251416c750aca23\", \"de...  "
      ]
     },
     "execution_count": 179,
     "metadata": {},
     "output_type": "execute_result"
    }
   ],
   "source": [
    "movies.head(1)"
   ]
  },
  {
   "cell_type": "markdown",
   "id": "fa92a968-c273-4291-a7e5-99946483c870",
   "metadata": {},
   "source": [
    "<ul>\n",
    "    <li> Checking for null values in columns.</li>\n",
    "</ul>"
   ]
  },
  {
   "cell_type": "code",
   "execution_count": 180,
   "id": "f6af4be9-3671-43ef-83ae-a46fc5d11a50",
   "metadata": {},
   "outputs": [
    {
     "data": {
      "text/plain": [
       "movie_id    0\n",
       "title       0\n",
       "overview    3\n",
       "genres      0\n",
       "keywords    0\n",
       "cast        0\n",
       "crew        0\n",
       "dtype: int64"
      ]
     },
     "execution_count": 180,
     "metadata": {},
     "output_type": "execute_result"
    }
   ],
   "source": [
    "movies.isnull().sum()"
   ]
  },
  {
   "cell_type": "markdown",
   "id": "12be3013-8a78-4fee-bbe4-457eb39f50eb",
   "metadata": {},
   "source": [
    "<ul>\n",
    "    <li> Removing null values from rows.</li>\n",
    "</ul>"
   ]
  },
  {
   "cell_type": "code",
   "execution_count": 181,
   "id": "1a3eb026-b877-4bf6-92e6-15d8f02b0aeb",
   "metadata": {},
   "outputs": [],
   "source": [
    "movies.dropna(inplace=True)"
   ]
  },
  {
   "cell_type": "code",
   "execution_count": 182,
   "id": "9e7b57dd-46ca-40d5-86d1-899a7ea57429",
   "metadata": {},
   "outputs": [
    {
     "data": {
      "text/plain": [
       "movie_id    0\n",
       "title       0\n",
       "overview    0\n",
       "genres      0\n",
       "keywords    0\n",
       "cast        0\n",
       "crew        0\n",
       "dtype: int64"
      ]
     },
     "execution_count": 182,
     "metadata": {},
     "output_type": "execute_result"
    }
   ],
   "source": [
    "movies.isnull().sum()"
   ]
  },
  {
   "cell_type": "markdown",
   "id": "85265412-b43d-4783-9463-2a0bcac5f3e6",
   "metadata": {},
   "source": [
    "<ul>\n",
    "    <li> Checking for duplicate columns.</li>\n",
    "</ul>"
   ]
  },
  {
   "cell_type": "code",
   "execution_count": 183,
   "id": "b2dea852-6b0f-44e0-b8f5-c6d3a912ac1b",
   "metadata": {},
   "outputs": [
    {
     "name": "stdout",
     "output_type": "stream",
     "text": [
      "0\n",
      "0\n"
     ]
    }
   ],
   "source": [
    "print(movies.columns.duplicated().sum())\n",
    "print(movies.duplicated().sum())"
   ]
  },
  {
   "cell_type": "markdown",
   "id": "657cac4b-67c0-4abf-ae8a-6ddb02dd4588",
   "metadata": {},
   "source": [
    "<ul>\n",
    "<li>  The function is designed to convert a string containing a list of dictionaries into a list of values extracted from a specific key within those dictionaries. </li>\n",
    "</ul>"
   ]
  },
  {
   "cell_type": "code",
   "execution_count": 184,
   "id": "0cdd62e9-20a9-4d1c-838c-9c2091a31d38",
   "metadata": {},
   "outputs": [],
   "source": [
    "movies[\"genres\"] = movies[\"genres\"].apply(convert)\n",
    "movies[\"keywords\"] = movies[\"keywords\"].apply(convert)\n",
    "movies[\"cast\"] = movies[\"cast\"].apply(convert3)\n",
    "movies[\"crew\"] = movies[\"crew\"].apply(fetch_director)"
   ]
  },
  {
   "cell_type": "markdown",
   "id": "7a8e555b-6334-4e9a-8584-79b576d9584d",
   "metadata": {},
   "source": [
    "<ul>\n",
    "<li>  Converting and splitting the observations in overview to list. </li>\n",
    "</ul>"
   ]
  },
  {
   "cell_type": "code",
   "execution_count": 185,
   "id": "b585481b-913f-4a36-8c92-540458bc4b2b",
   "metadata": {},
   "outputs": [],
   "source": [
    "movies[\"overview\"][0]\n",
    "movies[\"overview\"] = movies[\"overview\"].apply(lambda x:x.split())"
   ]
  },
  {
   "cell_type": "markdown",
   "id": "ea884206-3f9b-41ee-b14b-89ead84c964d",
   "metadata": {},
   "source": [
    "<ul>\n",
    "<li>  Removing spaces from the texts and merging all the texual features into one column with respect to each observation. </li>\n",
    "</ul>"
   ]
  },
  {
   "cell_type": "code",
   "execution_count": 186,
   "id": "5a9d4139-98be-49ac-b165-2f14def1f6d0",
   "metadata": {},
   "outputs": [],
   "source": [
    "movies[\"genres\"] = movies[\"genres\"].apply(lambda x:[i.replace(\" \",\"\") for i in x])\n",
    "movies[\"keywords\"] = movies[\"keywords\"].apply(lambda x:[i.replace(\" \",\"\") for i in x])\n",
    "movies[\"cast\"] = movies[\"cast\"].apply(lambda x:[i.replace(\" \",\"\") for i in x])\n",
    "movies[\"crew\"] = movies[\"crew\"].apply(lambda x:[i.replace(\" \",\"\") for i in x])"
   ]
  },
  {
   "cell_type": "code",
   "execution_count": 187,
   "id": "461f75dd-ca81-4ba6-9ee9-d7783ebd3ecd",
   "metadata": {},
   "outputs": [],
   "source": [
    "movies[\"tags\"] = movies[\"overview\"]+movies[\"genres\"]+movies[\"keywords\"]+movies[\"cast\"]+movies[\"crew\"]"
   ]
  },
  {
   "cell_type": "markdown",
   "id": "b4ea7abe-ff05-4f55-b73f-2b82aceb5259",
   "metadata": {},
   "source": [
    "<ul>\n",
    "<li> Preview of Dataframe movies.</li>\n",
    "</ul>"
   ]
  },
  {
   "cell_type": "code",
   "execution_count": 188,
   "id": "0072229b-89ca-4dda-8fa9-2bc295a9bc15",
   "metadata": {},
   "outputs": [
    {
     "data": {
      "text/html": [
       "<div>\n",
       "<style scoped>\n",
       "    .dataframe tbody tr th:only-of-type {\n",
       "        vertical-align: middle;\n",
       "    }\n",
       "\n",
       "    .dataframe tbody tr th {\n",
       "        vertical-align: top;\n",
       "    }\n",
       "\n",
       "    .dataframe thead th {\n",
       "        text-align: right;\n",
       "    }\n",
       "</style>\n",
       "<table border=\"1\" class=\"dataframe\">\n",
       "  <thead>\n",
       "    <tr style=\"text-align: right;\">\n",
       "      <th></th>\n",
       "      <th>movie_id</th>\n",
       "      <th>title</th>\n",
       "      <th>overview</th>\n",
       "      <th>genres</th>\n",
       "      <th>keywords</th>\n",
       "      <th>cast</th>\n",
       "      <th>crew</th>\n",
       "      <th>tags</th>\n",
       "    </tr>\n",
       "  </thead>\n",
       "  <tbody>\n",
       "    <tr>\n",
       "      <th>0</th>\n",
       "      <td>19995</td>\n",
       "      <td>Avatar</td>\n",
       "      <td>[In, the, 22nd, century,, a, paraplegic, Marin...</td>\n",
       "      <td>[Action, Adventure, Fantasy, ScienceFiction]</td>\n",
       "      <td>[cultureclash, future, spacewar, spacecolony, ...</td>\n",
       "      <td>[SamWorthington, ZoeSaldana, SigourneyWeaver]</td>\n",
       "      <td>[JamesCameron]</td>\n",
       "      <td>[In, the, 22nd, century,, a, paraplegic, Marin...</td>\n",
       "    </tr>\n",
       "  </tbody>\n",
       "</table>\n",
       "</div>"
      ],
      "text/plain": [
       "   movie_id   title                                           overview  \\\n",
       "0     19995  Avatar  [In, the, 22nd, century,, a, paraplegic, Marin...   \n",
       "\n",
       "                                         genres  \\\n",
       "0  [Action, Adventure, Fantasy, ScienceFiction]   \n",
       "\n",
       "                                            keywords  \\\n",
       "0  [cultureclash, future, spacewar, spacecolony, ...   \n",
       "\n",
       "                                            cast            crew  \\\n",
       "0  [SamWorthington, ZoeSaldana, SigourneyWeaver]  [JamesCameron]   \n",
       "\n",
       "                                                tags  \n",
       "0  [In, the, 22nd, century,, a, paraplegic, Marin...  "
      ]
     },
     "execution_count": 188,
     "metadata": {},
     "output_type": "execute_result"
    }
   ],
   "source": [
    "movies.head(1)"
   ]
  },
  {
   "cell_type": "markdown",
   "id": "7e75c289-611c-4417-a640-25797f415cf4",
   "metadata": {},
   "source": [
    "<ul>\n",
    "<li> Creating new Dataframe new_df including only three features \"movie_id\", \"title\", \"tags\". </li>\n",
    "<li> Joining all the str elements in list format of 'tags'. </li>\n",
    "</ul>"
   ]
  },
  {
   "cell_type": "code",
   "execution_count": 189,
   "id": "b8380c23-914c-414b-8380-76c00a0fc414",
   "metadata": {},
   "outputs": [
    {
     "name": "stderr",
     "output_type": "stream",
     "text": [
      "/tmp/ipykernel_34728/3945901829.py:2: SettingWithCopyWarning: \n",
      "A value is trying to be set on a copy of a slice from a DataFrame.\n",
      "Try using .loc[row_indexer,col_indexer] = value instead\n",
      "\n",
      "See the caveats in the documentation: https://pandas.pydata.org/pandas-docs/stable/user_guide/indexing.html#returning-a-view-versus-a-copy\n",
      "  new_df[\"tags\"] = new_df[\"tags\"].apply(lambda x:\" \".join(x))\n"
     ]
    }
   ],
   "source": [
    "new_df = movies[[\"movie_id\",\"title\",\"tags\"]]\n",
    "new_df[\"tags\"] = new_df[\"tags\"].apply(lambda x:\" \".join(x))"
   ]
  },
  {
   "cell_type": "markdown",
   "id": "679e982b-749e-4f6f-a1cd-0549811dd7ed",
   "metadata": {},
   "source": [
    "<ul>\n",
    "<li> Preview of Dataframe new_df.</li>\n",
    "</ul>"
   ]
  },
  {
   "cell_type": "code",
   "execution_count": 190,
   "id": "8fd60a2b-82fe-4543-a21e-34d94160aede",
   "metadata": {},
   "outputs": [
    {
     "data": {
      "text/html": [
       "<div>\n",
       "<style scoped>\n",
       "    .dataframe tbody tr th:only-of-type {\n",
       "        vertical-align: middle;\n",
       "    }\n",
       "\n",
       "    .dataframe tbody tr th {\n",
       "        vertical-align: top;\n",
       "    }\n",
       "\n",
       "    .dataframe thead th {\n",
       "        text-align: right;\n",
       "    }\n",
       "</style>\n",
       "<table border=\"1\" class=\"dataframe\">\n",
       "  <thead>\n",
       "    <tr style=\"text-align: right;\">\n",
       "      <th></th>\n",
       "      <th>movie_id</th>\n",
       "      <th>title</th>\n",
       "      <th>tags</th>\n",
       "    </tr>\n",
       "  </thead>\n",
       "  <tbody>\n",
       "    <tr>\n",
       "      <th>0</th>\n",
       "      <td>19995</td>\n",
       "      <td>Avatar</td>\n",
       "      <td>In the 22nd century, a paraplegic Marine is di...</td>\n",
       "    </tr>\n",
       "  </tbody>\n",
       "</table>\n",
       "</div>"
      ],
      "text/plain": [
       "   movie_id   title                                               tags\n",
       "0     19995  Avatar  In the 22nd century, a paraplegic Marine is di..."
      ]
     },
     "execution_count": 190,
     "metadata": {},
     "output_type": "execute_result"
    }
   ],
   "source": [
    "new_df.head(1)"
   ]
  },
  {
   "cell_type": "markdown",
   "id": "1fc45ec4-1f7d-46e6-b494-6c1c3b70d9a2",
   "metadata": {},
   "source": [
    "<ul>\n",
    "<li> Preview of 'tags'.</li>\n",
    "</ul>"
   ]
  },
  {
   "cell_type": "code",
   "execution_count": 191,
   "id": "5423777b-ac1b-4fb9-8d58-67af64e0561e",
   "metadata": {},
   "outputs": [
    {
     "data": {
      "text/plain": [
       "'In the 22nd century, a paraplegic Marine is dispatched to the moon Pandora on a unique mission, but becomes torn between following orders and protecting an alien civilization. Action Adventure Fantasy ScienceFiction cultureclash future spacewar spacecolony society spacetravel futuristic romance space alien tribe alienplanet cgi marine soldier battle loveaffair antiwar powerrelations mindandsoul 3d SamWorthington ZoeSaldana SigourneyWeaver JamesCameron'"
      ]
     },
     "execution_count": 191,
     "metadata": {},
     "output_type": "execute_result"
    }
   ],
   "source": [
    "new_df[\"tags\"][0]"
   ]
  },
  {
   "cell_type": "markdown",
   "id": "0fcaebd2-9fc7-409b-b131-e2ad7948f4f1",
   "metadata": {},
   "source": [
    "<ul>\n",
    "<li> To have a uniform texts without any case sensitive issues, I will covert every letter into a lower case.</li>\n",
    "</ul>"
   ]
  },
  {
   "cell_type": "code",
   "execution_count": 192,
   "id": "ca80bb7d-78d2-4ff1-92ac-e429c64997e7",
   "metadata": {},
   "outputs": [
    {
     "name": "stderr",
     "output_type": "stream",
     "text": [
      "/tmp/ipykernel_34728/3481706753.py:1: SettingWithCopyWarning: \n",
      "A value is trying to be set on a copy of a slice from a DataFrame.\n",
      "Try using .loc[row_indexer,col_indexer] = value instead\n",
      "\n",
      "See the caveats in the documentation: https://pandas.pydata.org/pandas-docs/stable/user_guide/indexing.html#returning-a-view-versus-a-copy\n",
      "  new_df[\"tags\"] = new_df[\"tags\"].apply(lambda x:x.lower())\n"
     ]
    }
   ],
   "source": [
    "new_df[\"tags\"] = new_df[\"tags\"].apply(lambda x:x.lower())"
   ]
  },
  {
   "cell_type": "code",
   "execution_count": 193,
   "id": "f1312d2e-8676-461d-bff9-3cd361c1b504",
   "metadata": {},
   "outputs": [
    {
     "data": {
      "text/html": [
       "<div>\n",
       "<style scoped>\n",
       "    .dataframe tbody tr th:only-of-type {\n",
       "        vertical-align: middle;\n",
       "    }\n",
       "\n",
       "    .dataframe tbody tr th {\n",
       "        vertical-align: top;\n",
       "    }\n",
       "\n",
       "    .dataframe thead th {\n",
       "        text-align: right;\n",
       "    }\n",
       "</style>\n",
       "<table border=\"1\" class=\"dataframe\">\n",
       "  <thead>\n",
       "    <tr style=\"text-align: right;\">\n",
       "      <th></th>\n",
       "      <th>movie_id</th>\n",
       "      <th>title</th>\n",
       "      <th>tags</th>\n",
       "    </tr>\n",
       "  </thead>\n",
       "  <tbody>\n",
       "    <tr>\n",
       "      <th>0</th>\n",
       "      <td>19995</td>\n",
       "      <td>Avatar</td>\n",
       "      <td>in the 22nd century, a paraplegic marine is di...</td>\n",
       "    </tr>\n",
       "  </tbody>\n",
       "</table>\n",
       "</div>"
      ],
      "text/plain": [
       "   movie_id   title                                               tags\n",
       "0     19995  Avatar  in the 22nd century, a paraplegic marine is di..."
      ]
     },
     "execution_count": 193,
     "metadata": {},
     "output_type": "execute_result"
    }
   ],
   "source": [
    "new_df.head(1)"
   ]
  },
  {
   "cell_type": "markdown",
   "id": "012fa391-2aba-41a6-a047-ab78b99ed194",
   "metadata": {},
   "source": [
    "<ul>\n",
    "<li> Creating a function for stemming the text using the Porter Stemmer from the NLTK (Natural Language Toolkit) library in Python. Stemming is a text normalization technique that reduces words to their base or root form. </li>\n",
    "</ul>"
   ]
  },
  {
   "cell_type": "code",
   "execution_count": 194,
   "id": "db113384-6884-41df-9d25-6f70401f86f2",
   "metadata": {},
   "outputs": [],
   "source": [
    "from nltk.stem.porter import PorterStemmer\n",
    "ps = PorterStemmer()\n",
    "\n",
    "def stem(text):\n",
    "    y = []\n",
    "    for i in text.split():\n",
    "        y.append(ps.stem(i))\n",
    "    return \" \".join(y)"
   ]
  },
  {
   "cell_type": "markdown",
   "id": "04e67edb-5717-4c5d-978d-5f319493051c",
   "metadata": {},
   "source": [
    "<ul>\n",
    "<li> Converting all observations of tags to base or roots words. </li>\n",
    "</ul>"
   ]
  },
  {
   "cell_type": "code",
   "execution_count": 195,
   "id": "0a605398-3508-42cb-af42-936f8c6f5e57",
   "metadata": {},
   "outputs": [
    {
     "name": "stderr",
     "output_type": "stream",
     "text": [
      "/tmp/ipykernel_34728/825579503.py:1: SettingWithCopyWarning: \n",
      "A value is trying to be set on a copy of a slice from a DataFrame.\n",
      "Try using .loc[row_indexer,col_indexer] = value instead\n",
      "\n",
      "See the caveats in the documentation: https://pandas.pydata.org/pandas-docs/stable/user_guide/indexing.html#returning-a-view-versus-a-copy\n",
      "  new_df[\"tags\"] = new_df[\"tags\"].apply(stem)\n"
     ]
    }
   ],
   "source": [
    "new_df[\"tags\"] = new_df[\"tags\"].apply(stem)"
   ]
  },
  {
   "cell_type": "code",
   "execution_count": 196,
   "id": "64885596-6bbf-495f-9ba2-8244a8cb8ced",
   "metadata": {},
   "outputs": [
    {
     "data": {
      "text/plain": [
       "'in the 22nd century, a parapleg marin is dispatch to the moon pandora on a uniqu mission, but becom torn between follow order and protect an alien civilization. action adventur fantasi sciencefict cultureclash futur spacewar spacecoloni societi spacetravel futurist romanc space alien tribe alienplanet cgi marin soldier battl loveaffair antiwar powerrel mindandsoul 3d samworthington zoesaldana sigourneyweav jamescameron'"
      ]
     },
     "execution_count": 196,
     "metadata": {},
     "output_type": "execute_result"
    }
   ],
   "source": [
    "new_df[\"tags\"][0]"
   ]
  }
 ],
 "metadata": {
  "kernelspec": {
   "display_name": "Python 3 (ipykernel)",
   "language": "python",
   "name": "python3"
  },
  "language_info": {
   "codemirror_mode": {
    "name": "ipython",
    "version": 3
   },
   "file_extension": ".py",
   "mimetype": "text/x-python",
   "name": "python",
   "nbconvert_exporter": "python",
   "pygments_lexer": "ipython3",
   "version": "3.10.12"
  }
 },
 "nbformat": 4,
 "nbformat_minor": 5
}
