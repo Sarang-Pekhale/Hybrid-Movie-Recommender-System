{
 "cells": [
  {
   "cell_type": "markdown",
   "id": "1968ada8",
   "metadata": {},
   "source": [
    "## Hybrid Movie Recommender System\n",
    "<ol>\n",
    "   <li>I will implement a hybrid approach combining collaborative-based filtering and content-based filtering to recommend similar movies to users, based on their recently watched movies.</li>\n",
    "    <ul>\n",
    "        <li><b> My methodology is as follows:</b></li>\n",
    "        <ol>\n",
    "            <li>First, I will filter the top 100 similar movies using \"keywords,\" \"tagline,\" and \"genres\".</li>\n",
    "            <li>Next, after obtaining the top 100 movies, I will apply a filter based on their \"vote_count\" and select the top 50 movies for further analysis.</li>\n",
    "            <li>Finally, I will perform a final filtering process by selecting the top 5 similar \"overview\" movies from the previous top 50 results.</li>\n",
    "            </ol>\n",
    "        </ul>\n",
    "    </ol>"
   ]
  },
  {
   "cell_type": "markdown",
   "id": "92a97388",
   "metadata": {},
   "source": [
    "<ul>\n",
    "    <li> Import the necessary libraries.</li>\n",
    "</ul>\n",
    "    "
   ]
  },
  {
   "cell_type": "code",
   "execution_count": 6,
   "id": "25cd3ee8",
   "metadata": {},
   "outputs": [],
   "source": [
    "import pandas as pd\n",
    "import numpy as np \n",
    "from sklearn.feature_extraction.text import CountVectorizer, TfidfVectorizer\n",
    "from sklearn.metrics.pairwise import cosine_similarity\n",
    "import json\n",
    "import re\n",
    "# from wordcloud import WordCloud"
   ]
  },
  {
   "cell_type": "markdown",
   "id": "a70762dc",
   "metadata": {},
   "source": [
    "<ul>\n",
    "    <li> Load the datasets.</li>\n",
    "</ul>"
   ]
  },
  {
   "cell_type": "code",
   "execution_count": 7,
   "id": "6383ca75",
   "metadata": {},
   "outputs": [],
   "source": [
    "credits = pd.read_csv(\"tmdb_5000_credits.csv\")\n",
    "movies = pd.read_csv(\"tmdb_5000_movies.csv\")"
   ]
  },
  {
   "cell_type": "code",
   "execution_count": 8,
   "id": "086560f9-5ebf-4cfa-8490-32885ed33aad",
   "metadata": {},
   "outputs": [
    {
     "data": {
      "text/html": [
       "<div>\n",
       "<style scoped>\n",
       "    .dataframe tbody tr th:only-of-type {\n",
       "        vertical-align: middle;\n",
       "    }\n",
       "\n",
       "    .dataframe tbody tr th {\n",
       "        vertical-align: top;\n",
       "    }\n",
       "\n",
       "    .dataframe thead th {\n",
       "        text-align: right;\n",
       "    }\n",
       "</style>\n",
       "<table border=\"1\" class=\"dataframe\">\n",
       "  <thead>\n",
       "    <tr style=\"text-align: right;\">\n",
       "      <th></th>\n",
       "      <th>budget</th>\n",
       "      <th>genres</th>\n",
       "      <th>homepage</th>\n",
       "      <th>id</th>\n",
       "      <th>keywords</th>\n",
       "      <th>original_language</th>\n",
       "      <th>original_title</th>\n",
       "      <th>overview</th>\n",
       "      <th>popularity</th>\n",
       "      <th>production_companies</th>\n",
       "      <th>production_countries</th>\n",
       "      <th>release_date</th>\n",
       "      <th>revenue</th>\n",
       "      <th>runtime</th>\n",
       "      <th>spoken_languages</th>\n",
       "      <th>status</th>\n",
       "      <th>tagline</th>\n",
       "      <th>title</th>\n",
       "      <th>vote_average</th>\n",
       "      <th>vote_count</th>\n",
       "    </tr>\n",
       "  </thead>\n",
       "  <tbody>\n",
       "    <tr>\n",
       "      <th>0</th>\n",
       "      <td>237000000</td>\n",
       "      <td>[{\"id\": 28, \"name\": \"Action\"}, {\"id\": 12, \"nam...</td>\n",
       "      <td>http://www.avatarmovie.com/</td>\n",
       "      <td>19995</td>\n",
       "      <td>[{\"id\": 1463, \"name\": \"culture clash\"}, {\"id\":...</td>\n",
       "      <td>en</td>\n",
       "      <td>Avatar</td>\n",
       "      <td>In the 22nd century, a paraplegic Marine is di...</td>\n",
       "      <td>150.437577</td>\n",
       "      <td>[{\"name\": \"Ingenious Film Partners\", \"id\": 289...</td>\n",
       "      <td>[{\"iso_3166_1\": \"US\", \"name\": \"United States o...</td>\n",
       "      <td>2009-12-10</td>\n",
       "      <td>2787965087</td>\n",
       "      <td>162.0</td>\n",
       "      <td>[{\"iso_639_1\": \"en\", \"name\": \"English\"}, {\"iso...</td>\n",
       "      <td>Released</td>\n",
       "      <td>Enter the World of Pandora.</td>\n",
       "      <td>Avatar</td>\n",
       "      <td>7.2</td>\n",
       "      <td>11800</td>\n",
       "    </tr>\n",
       "  </tbody>\n",
       "</table>\n",
       "</div>"
      ],
      "text/plain": [
       "      budget                                             genres  \\\n",
       "0  237000000  [{\"id\": 28, \"name\": \"Action\"}, {\"id\": 12, \"nam...   \n",
       "\n",
       "                      homepage     id  \\\n",
       "0  http://www.avatarmovie.com/  19995   \n",
       "\n",
       "                                            keywords original_language  \\\n",
       "0  [{\"id\": 1463, \"name\": \"culture clash\"}, {\"id\":...                en   \n",
       "\n",
       "  original_title                                           overview  \\\n",
       "0         Avatar  In the 22nd century, a paraplegic Marine is di...   \n",
       "\n",
       "   popularity                               production_companies  \\\n",
       "0  150.437577  [{\"name\": \"Ingenious Film Partners\", \"id\": 289...   \n",
       "\n",
       "                                production_countries release_date     revenue  \\\n",
       "0  [{\"iso_3166_1\": \"US\", \"name\": \"United States o...   2009-12-10  2787965087   \n",
       "\n",
       "   runtime                                   spoken_languages    status  \\\n",
       "0    162.0  [{\"iso_639_1\": \"en\", \"name\": \"English\"}, {\"iso...  Released   \n",
       "\n",
       "                       tagline   title  vote_average  vote_count  \n",
       "0  Enter the World of Pandora.  Avatar           7.2       11800  "
      ]
     },
     "execution_count": 8,
     "metadata": {},
     "output_type": "execute_result"
    }
   ],
   "source": [
    "movies.head(1)"
   ]
  },
  {
   "cell_type": "code",
   "execution_count": 9,
   "id": "e7456b34-1f4d-4171-a53f-cbed9763f3c0",
   "metadata": {},
   "outputs": [],
   "source": [
    "movies=movies.drop('homepage',axis=1)"
   ]
  },
  {
   "cell_type": "code",
   "execution_count": 10,
   "id": "cf8f69d3-31c3-4734-9636-5bb592a2fe85",
   "metadata": {},
   "outputs": [],
   "source": [
    "movies.dropna(inplace=True)"
   ]
  },
  {
   "cell_type": "markdown",
   "id": "9ca0555f",
   "metadata": {},
   "source": [
    "<ul>\n",
    "    <li> Remove all the missing values in the dataset.</li>\n",
    "</ul>"
   ]
  },
  {
   "cell_type": "code",
   "execution_count": 11,
   "id": "81412301-bbcc-4c00-b2c7-0cd1e789b449",
   "metadata": {},
   "outputs": [
    {
     "data": {
      "text/plain": [
       "(3959, 19)"
      ]
     },
     "execution_count": 11,
     "metadata": {},
     "output_type": "execute_result"
    }
   ],
   "source": [
    "movies.shape"
   ]
  },
  {
   "cell_type": "code",
   "execution_count": 12,
   "id": "3e3deb99",
   "metadata": {},
   "outputs": [],
   "source": [
    "movies = movies.dropna()\n",
    "credits = credits.dropna()"
   ]
  },
  {
   "cell_type": "markdown",
   "id": "6b9d20b2",
   "metadata": {},
   "source": [
    "<ul>\n",
    "    <li> Prepare the datasets to be used.</li>\n",
    "</ul>"
   ]
  },
  {
   "cell_type": "code",
   "execution_count": 13,
   "id": "b57e09ab-c1d2-4146-bfc8-ee4814f867d9",
   "metadata": {},
   "outputs": [
    {
     "data": {
      "text/plain": [
       "(3959, 19)"
      ]
     },
     "execution_count": 13,
     "metadata": {},
     "output_type": "execute_result"
    }
   ],
   "source": [
    "movies.shape"
   ]
  },
  {
   "cell_type": "code",
   "execution_count": 14,
   "id": "627add8b",
   "metadata": {},
   "outputs": [],
   "source": [
    "datasets = movies[[\"id\", \"original_title\", \"overview\", \"genres\", \"keywords\", \"tagline\", \"vote_average\", \"vote_count\"]]"
   ]
  },
  {
   "cell_type": "markdown",
   "id": "41e2726f",
   "metadata": {},
   "source": [
    "<ul>\n",
    "    <li> I'll extract the genres and keywords information from the dataset, which are stored in json format.\n",
    "I'll create a new dataframe for this.</li>\n",
    "</ul>"
   ]
  },
  {
   "cell_type": "code",
   "execution_count": 15,
   "id": "c8c1df2d",
   "metadata": {},
   "outputs": [],
   "source": [
    "keywords_taglines_genres = datasets[[\"id\", \"original_title\"]]"
   ]
  },
  {
   "cell_type": "code",
   "execution_count": 16,
   "id": "34fe03e1",
   "metadata": {},
   "outputs": [
    {
     "name": "stderr",
     "output_type": "stream",
     "text": [
      "C:\\Users\\win 10\\AppData\\Local\\Temp\\ipykernel_22868\\1899000634.py:1: SettingWithCopyWarning: \n",
      "A value is trying to be set on a copy of a slice from a DataFrame.\n",
      "Try using .loc[row_indexer,col_indexer] = value instead\n",
      "\n",
      "See the caveats in the documentation: https://pandas.pydata.org/pandas-docs/stable/user_guide/indexing.html#returning-a-view-versus-a-copy\n",
      "  keywords_taglines_genres[\"genres_combined\"] = datasets.genres.apply(lambda row: ' ' . join([x['name'].lower() for x in json.loads(row)]))\n",
      "C:\\Users\\win 10\\AppData\\Local\\Temp\\ipykernel_22868\\1899000634.py:2: SettingWithCopyWarning: \n",
      "A value is trying to be set on a copy of a slice from a DataFrame.\n",
      "Try using .loc[row_indexer,col_indexer] = value instead\n",
      "\n",
      "See the caveats in the documentation: https://pandas.pydata.org/pandas-docs/stable/user_guide/indexing.html#returning-a-view-versus-a-copy\n",
      "  keywords_taglines_genres[\"keywords_combined\"] = datasets.keywords.apply(lambda row: ' ' . join([x['name'].lower() for x in json.loads(row)]))\n",
      "C:\\Users\\win 10\\AppData\\Local\\Temp\\ipykernel_22868\\1899000634.py:3: SettingWithCopyWarning: \n",
      "A value is trying to be set on a copy of a slice from a DataFrame.\n",
      "Try using .loc[row_indexer,col_indexer] = value instead\n",
      "\n",
      "See the caveats in the documentation: https://pandas.pydata.org/pandas-docs/stable/user_guide/indexing.html#returning-a-view-versus-a-copy\n",
      "  keywords_taglines_genres[\"tagline_processed\"] = datasets.tagline.apply(lambda row: row.lower())\n"
     ]
    }
   ],
   "source": [
    "keywords_taglines_genres[\"genres_combined\"] = datasets.genres.apply(lambda row: ' ' . join([x['name'].lower() for x in json.loads(row)]))\n",
    "keywords_taglines_genres[\"keywords_combined\"] = datasets.keywords.apply(lambda row: ' ' . join([x['name'].lower() for x in json.loads(row)]))\n",
    "keywords_taglines_genres[\"tagline_processed\"] = datasets.tagline.apply(lambda row: row.lower())"
   ]
  },
  {
   "cell_type": "code",
   "execution_count": 17,
   "id": "63c9b64f",
   "metadata": {},
   "outputs": [
    {
     "data": {
      "text/html": [
       "<div>\n",
       "<style scoped>\n",
       "    .dataframe tbody tr th:only-of-type {\n",
       "        vertical-align: middle;\n",
       "    }\n",
       "\n",
       "    .dataframe tbody tr th {\n",
       "        vertical-align: top;\n",
       "    }\n",
       "\n",
       "    .dataframe thead th {\n",
       "        text-align: right;\n",
       "    }\n",
       "</style>\n",
       "<table border=\"1\" class=\"dataframe\">\n",
       "  <thead>\n",
       "    <tr style=\"text-align: right;\">\n",
       "      <th></th>\n",
       "      <th>id</th>\n",
       "      <th>original_title</th>\n",
       "      <th>genres_combined</th>\n",
       "      <th>keywords_combined</th>\n",
       "      <th>tagline_processed</th>\n",
       "    </tr>\n",
       "  </thead>\n",
       "  <tbody>\n",
       "    <tr>\n",
       "      <th>0</th>\n",
       "      <td>19995</td>\n",
       "      <td>Avatar</td>\n",
       "      <td>action adventure fantasy science fiction</td>\n",
       "      <td>culture clash future space war space colony so...</td>\n",
       "      <td>enter the world of pandora.</td>\n",
       "    </tr>\n",
       "    <tr>\n",
       "      <th>1</th>\n",
       "      <td>285</td>\n",
       "      <td>Pirates of the Caribbean: At World's End</td>\n",
       "      <td>adventure fantasy action</td>\n",
       "      <td>ocean drug abuse exotic island east india trad...</td>\n",
       "      <td>at the end of the world, the adventure begins.</td>\n",
       "    </tr>\n",
       "  </tbody>\n",
       "</table>\n",
       "</div>"
      ],
      "text/plain": [
       "      id                            original_title  \\\n",
       "0  19995                                    Avatar   \n",
       "1    285  Pirates of the Caribbean: At World's End   \n",
       "\n",
       "                            genres_combined  \\\n",
       "0  action adventure fantasy science fiction   \n",
       "1                  adventure fantasy action   \n",
       "\n",
       "                                   keywords_combined  \\\n",
       "0  culture clash future space war space colony so...   \n",
       "1  ocean drug abuse exotic island east india trad...   \n",
       "\n",
       "                                tagline_processed  \n",
       "0                     enter the world of pandora.  \n",
       "1  at the end of the world, the adventure begins.  "
      ]
     },
     "execution_count": 17,
     "metadata": {},
     "output_type": "execute_result"
    }
   ],
   "source": [
    "keywords_taglines_genres.head(2)"
   ]
  },
  {
   "cell_type": "markdown",
   "id": "aef576ec",
   "metadata": {},
   "source": [
    "<ul>\n",
    "    <li> Next, we will merge them to prepare for the encoding process.</li>\n",
    "</ul>"
   ]
  },
  {
   "cell_type": "code",
   "execution_count": 18,
   "id": "86c7d995",
   "metadata": {},
   "outputs": [
    {
     "name": "stderr",
     "output_type": "stream",
     "text": [
      "C:\\Users\\win 10\\AppData\\Local\\Temp\\ipykernel_22868\\3921606734.py:1: SettingWithCopyWarning: \n",
      "A value is trying to be set on a copy of a slice from a DataFrame.\n",
      "Try using .loc[row_indexer,col_indexer] = value instead\n",
      "\n",
      "See the caveats in the documentation: https://pandas.pydata.org/pandas-docs/stable/user_guide/indexing.html#returning-a-view-versus-a-copy\n",
      "  keywords_taglines_genres[\"keywords_taglines_genres\"] = keywords_taglines_genres.apply((lambda row: ' ' . join([row.genres_combined, row.keywords_combined, row.tagline_processed])), axis=1)\n"
     ]
    }
   ],
   "source": [
    "keywords_taglines_genres[\"keywords_taglines_genres\"] = keywords_taglines_genres.apply((lambda row: ' ' . join([row.genres_combined, row.keywords_combined, row.tagline_processed])), axis=1)"
   ]
  },
  {
   "cell_type": "code",
   "execution_count": 19,
   "id": "5d594fd4",
   "metadata": {},
   "outputs": [
    {
     "data": {
      "text/html": [
       "<div>\n",
       "<style scoped>\n",
       "    .dataframe tbody tr th:only-of-type {\n",
       "        vertical-align: middle;\n",
       "    }\n",
       "\n",
       "    .dataframe tbody tr th {\n",
       "        vertical-align: top;\n",
       "    }\n",
       "\n",
       "    .dataframe thead th {\n",
       "        text-align: right;\n",
       "    }\n",
       "</style>\n",
       "<table border=\"1\" class=\"dataframe\">\n",
       "  <thead>\n",
       "    <tr style=\"text-align: right;\">\n",
       "      <th></th>\n",
       "      <th>id</th>\n",
       "      <th>original_title</th>\n",
       "      <th>genres_combined</th>\n",
       "      <th>keywords_combined</th>\n",
       "      <th>tagline_processed</th>\n",
       "      <th>keywords_taglines_genres</th>\n",
       "    </tr>\n",
       "  </thead>\n",
       "  <tbody>\n",
       "    <tr>\n",
       "      <th>0</th>\n",
       "      <td>19995</td>\n",
       "      <td>Avatar</td>\n",
       "      <td>action adventure fantasy science fiction</td>\n",
       "      <td>culture clash future space war space colony so...</td>\n",
       "      <td>enter the world of pandora.</td>\n",
       "      <td>action adventure fantasy science fiction cultu...</td>\n",
       "    </tr>\n",
       "    <tr>\n",
       "      <th>1</th>\n",
       "      <td>285</td>\n",
       "      <td>Pirates of the Caribbean: At World's End</td>\n",
       "      <td>adventure fantasy action</td>\n",
       "      <td>ocean drug abuse exotic island east india trad...</td>\n",
       "      <td>at the end of the world, the adventure begins.</td>\n",
       "      <td>adventure fantasy action ocean drug abuse exot...</td>\n",
       "    </tr>\n",
       "  </tbody>\n",
       "</table>\n",
       "</div>"
      ],
      "text/plain": [
       "      id                            original_title  \\\n",
       "0  19995                                    Avatar   \n",
       "1    285  Pirates of the Caribbean: At World's End   \n",
       "\n",
       "                            genres_combined  \\\n",
       "0  action adventure fantasy science fiction   \n",
       "1                  adventure fantasy action   \n",
       "\n",
       "                                   keywords_combined  \\\n",
       "0  culture clash future space war space colony so...   \n",
       "1  ocean drug abuse exotic island east india trad...   \n",
       "\n",
       "                                tagline_processed  \\\n",
       "0                     enter the world of pandora.   \n",
       "1  at the end of the world, the adventure begins.   \n",
       "\n",
       "                            keywords_taglines_genres  \n",
       "0  action adventure fantasy science fiction cultu...  \n",
       "1  adventure fantasy action ocean drug abuse exot...  "
      ]
     },
     "execution_count": 19,
     "metadata": {},
     "output_type": "execute_result"
    }
   ],
   "source": [
    "keywords_taglines_genres.head(2)"
   ]
  },
  {
   "cell_type": "markdown",
   "id": "a64bde7c",
   "metadata": {},
   "source": [
    "<ul>\n",
    "    <li> To enable computation, we need to encode the words as we cannot process data in string format. However, simply encoding each word into numbers may not provide enough information. In this case, we can use the CountVectorizer to encode the data, which will not only enable computation but also provide additional insights into the data.\n",
    "For this purpose, I will use the stop words provided by scikit-learn as the default, which excludes words like 'the', 'and', 'a', 'an', 'in', 'of', 'to', etc.</li>\n",
    "</ul>"
   ]
  },
  {
   "cell_type": "code",
   "execution_count": 20,
   "id": "715abbdb",
   "metadata": {},
   "outputs": [
    {
     "data": {
      "text/html": [
       "<div>\n",
       "<style scoped>\n",
       "    .dataframe tbody tr th:only-of-type {\n",
       "        vertical-align: middle;\n",
       "    }\n",
       "\n",
       "    .dataframe tbody tr th {\n",
       "        vertical-align: top;\n",
       "    }\n",
       "\n",
       "    .dataframe thead th {\n",
       "        text-align: right;\n",
       "    }\n",
       "</style>\n",
       "<table border=\"1\" class=\"dataframe\">\n",
       "  <thead>\n",
       "    <tr style=\"text-align: right;\">\n",
       "      <th></th>\n",
       "      <th>id</th>\n",
       "      <th>original_title</th>\n",
       "      <th>genres_combined</th>\n",
       "      <th>keywords_combined</th>\n",
       "      <th>tagline_processed</th>\n",
       "      <th>keywords_taglines_genres</th>\n",
       "    </tr>\n",
       "  </thead>\n",
       "  <tbody>\n",
       "    <tr>\n",
       "      <th>0</th>\n",
       "      <td>5</td>\n",
       "      <td>Four Rooms</td>\n",
       "      <td>crime comedy</td>\n",
       "      <td>hotel new year's eve witch bet hotel room sper...</td>\n",
       "      <td>twelve outrageous guests. four scandalous requ...</td>\n",
       "      <td>crime comedy hotel new year's eve witch bet ho...</td>\n",
       "    </tr>\n",
       "    <tr>\n",
       "      <th>1</th>\n",
       "      <td>11</td>\n",
       "      <td>Star Wars</td>\n",
       "      <td>adventure action science fiction</td>\n",
       "      <td>android galaxy hermit death star lightsaber je...</td>\n",
       "      <td>a long time ago in a galaxy far, far away...</td>\n",
       "      <td>adventure action science fiction android galax...</td>\n",
       "    </tr>\n",
       "    <tr>\n",
       "      <th>2</th>\n",
       "      <td>12</td>\n",
       "      <td>Finding Nemo</td>\n",
       "      <td>animation family</td>\n",
       "      <td>father son relationship harbor underwater fish...</td>\n",
       "      <td>there are 3.7 trillion fish in the ocean, they...</td>\n",
       "      <td>animation family father son relationship harbo...</td>\n",
       "    </tr>\n",
       "    <tr>\n",
       "      <th>3</th>\n",
       "      <td>13</td>\n",
       "      <td>Forrest Gump</td>\n",
       "      <td>comedy drama romance</td>\n",
       "      <td>vietnam veteran hippie mentally disabled runni...</td>\n",
       "      <td>the world will never be the same, once you've ...</td>\n",
       "      <td>comedy drama romance vietnam veteran hippie me...</td>\n",
       "    </tr>\n",
       "    <tr>\n",
       "      <th>4</th>\n",
       "      <td>14</td>\n",
       "      <td>American Beauty</td>\n",
       "      <td>drama</td>\n",
       "      <td>male nudity female nudity adultery midlife cri...</td>\n",
       "      <td>look closer.</td>\n",
       "      <td>drama male nudity female nudity adultery midli...</td>\n",
       "    </tr>\n",
       "  </tbody>\n",
       "</table>\n",
       "</div>"
      ],
      "text/plain": [
       "   id   original_title                   genres_combined  \\\n",
       "0   5       Four Rooms                      crime comedy   \n",
       "1  11        Star Wars  adventure action science fiction   \n",
       "2  12     Finding Nemo                  animation family   \n",
       "3  13     Forrest Gump              comedy drama romance   \n",
       "4  14  American Beauty                             drama   \n",
       "\n",
       "                                   keywords_combined  \\\n",
       "0  hotel new year's eve witch bet hotel room sper...   \n",
       "1  android galaxy hermit death star lightsaber je...   \n",
       "2  father son relationship harbor underwater fish...   \n",
       "3  vietnam veteran hippie mentally disabled runni...   \n",
       "4  male nudity female nudity adultery midlife cri...   \n",
       "\n",
       "                                   tagline_processed  \\\n",
       "0  twelve outrageous guests. four scandalous requ...   \n",
       "1       a long time ago in a galaxy far, far away...   \n",
       "2  there are 3.7 trillion fish in the ocean, they...   \n",
       "3  the world will never be the same, once you've ...   \n",
       "4                                       look closer.   \n",
       "\n",
       "                            keywords_taglines_genres  \n",
       "0  crime comedy hotel new year's eve witch bet ho...  \n",
       "1  adventure action science fiction android galax...  \n",
       "2  animation family father son relationship harbo...  \n",
       "3  comedy drama romance vietnam veteran hippie me...  \n",
       "4  drama male nudity female nudity adultery midli...  "
      ]
     },
     "execution_count": 20,
     "metadata": {},
     "output_type": "execute_result"
    }
   ],
   "source": [
    "keywords_taglines_genres = keywords_taglines_genres.sort_values(\"id\")\n",
    "keywords_taglines_genres = keywords_taglines_genres.reset_index(drop=True)\n",
    "keywords_taglines_genres.head()"
   ]
  },
  {
   "cell_type": "code",
   "execution_count": 21,
   "id": "a4c3a9df",
   "metadata": {},
   "outputs": [
    {
     "data": {
      "text/plain": [
       "0       crime comedy hotel new year's eve witch bet ho...\n",
       "1       adventure action science fiction android galax...\n",
       "2       animation family father son relationship harbo...\n",
       "3       comedy drama romance vietnam veteran hippie me...\n",
       "4       drama male nudity female nudity adultery midli...\n",
       "                              ...                        \n",
       "3954    history drama war action korea fictionalized h...\n",
       "3955    action adventure animation family fantasy adve...\n",
       "3956          horror  the hot spot where satan's waitin'.\n",
       "3957    comedy family drama  it’s better to stand out ...\n",
       "3958    thriller drama christian film sex trafficking ...\n",
       "Name: keywords_taglines_genres, Length: 3959, dtype: object"
      ]
     },
     "execution_count": 21,
     "metadata": {},
     "output_type": "execute_result"
    }
   ],
   "source": [
    "keywords_taglines_genres.keywords_taglines_genres"
   ]
  },
  {
   "cell_type": "code",
   "execution_count": 22,
   "id": "da9aa2bb",
   "metadata": {},
   "outputs": [],
   "source": [
    "vectorizer = CountVectorizer(stop_words='english')\n",
    "vectorized = vectorizer.fit_transform(keywords_taglines_genres.keywords_taglines_genres)"
   ]
  },
  {
   "cell_type": "code",
   "execution_count": 23,
   "id": "0ea266ca",
   "metadata": {},
   "outputs": [
    {
     "data": {
      "text/plain": [
       "(3959, 8920)"
      ]
     },
     "execution_count": 23,
     "metadata": {},
     "output_type": "execute_result"
    }
   ],
   "source": [
    "vectorized.toarray().shape"
   ]
  },
  {
   "cell_type": "code",
   "execution_count": 24,
   "id": "866030ef",
   "metadata": {},
   "outputs": [
    {
     "data": {
      "text/plain": [
       "array([[0, 0, 0, ..., 0, 0, 0],\n",
       "       [0, 0, 0, ..., 0, 0, 0],\n",
       "       [0, 0, 0, ..., 0, 0, 0],\n",
       "       ...,\n",
       "       [0, 0, 0, ..., 0, 0, 0],\n",
       "       [0, 0, 0, ..., 0, 0, 0],\n",
       "       [0, 0, 0, ..., 0, 0, 0]], dtype=int64)"
      ]
     },
     "execution_count": 24,
     "metadata": {},
     "output_type": "execute_result"
    }
   ],
   "source": [
    "vectorized.toarray()"
   ]
  },
  {
   "cell_type": "markdown",
   "id": "55a4f66f",
   "metadata": {},
   "source": [
    "<ul>\n",
    "    <li>We have obtained information about each word, and now we can plot the top 10 most frequent words in the sentences.</li>\n",
    "</ul>"
   ]
  },
  {
   "cell_type": "code",
   "execution_count": 25,
   "id": "08ba6fb9",
   "metadata": {},
   "outputs": [
    {
     "data": {
      "text/plain": [
       "array(['000', '007', '05', ..., '最后的舞者', '绝地奶霸', '超级妈妈'], dtype=object)"
      ]
     },
     "execution_count": 25,
     "metadata": {},
     "output_type": "execute_result"
    }
   ],
   "source": [
    "words = vectorizer.get_feature_names_out()\n",
    "words"
   ]
  },
  {
   "cell_type": "code",
   "execution_count": 26,
   "id": "0c2a8f00",
   "metadata": {},
   "outputs": [
    {
     "data": {
      "text/plain": [
       "array([17,  6,  2, ...,  1,  1,  1], dtype=int64)"
      ]
     },
     "execution_count": 26,
     "metadata": {},
     "output_type": "execute_result"
    }
   ],
   "source": [
    "freqs = vectorized.sum(axis=0).A1 # sum matrix into a 1D NumPy array\n",
    "freqs"
   ]
  },
  {
   "cell_type": "code",
   "execution_count": 27,
   "id": "6b538f07",
   "metadata": {},
   "outputs": [],
   "source": [
    "sorted_indices = freqs.argsort()[::-1] # Sort the words by frequency in descending order\n",
    "words = [words[idx] for idx in sorted_indices]\n",
    "freqs = freqs[sorted_indices]"
   ]
  },
  {
   "cell_type": "markdown",
   "id": "fb7b4ba6",
   "metadata": {},
   "source": [
    "<ul>\n",
    "    <li>I'll now use consine similarity to find the similarity. Cosine similarity is a measure of similarity between two non-zero vectors of an inner product space that measures the cosine of the angle between them. It is often used in natural language processing and information retrieval to measure how similar two documents are based on their content. The value of cosine similarity ranges from -1 to 1, with 1 indicating that the two vectors are identical and 0 indicating that they are completely dissimilar. Higher values of cosine similarity indicate greater similarity between the vectors.\n",
    "The formula for cosine similarity between two vectors A and B can be expressed as:\n",
    "\n",
    "cosine_similarity = (A . B) / (||A|| ||B||)\n",
    "\n",
    "where A . B represents the dot product of A and B, and ||A|| and ||B|| represent the magnitudes of A and B, respectively.</li>\n",
    "</ul>"
   ]
  },
  {
   "cell_type": "code",
   "execution_count": 28,
   "id": "34a1e143",
   "metadata": {},
   "outputs": [
    {
     "data": {
      "text/html": [
       "<div>\n",
       "<style scoped>\n",
       "    .dataframe tbody tr th:only-of-type {\n",
       "        vertical-align: middle;\n",
       "    }\n",
       "\n",
       "    .dataframe tbody tr th {\n",
       "        vertical-align: top;\n",
       "    }\n",
       "\n",
       "    .dataframe thead th {\n",
       "        text-align: right;\n",
       "    }\n",
       "</style>\n",
       "<table border=\"1\" class=\"dataframe\">\n",
       "  <thead>\n",
       "    <tr style=\"text-align: right;\">\n",
       "      <th></th>\n",
       "      <th>0</th>\n",
       "      <th>1</th>\n",
       "      <th>2</th>\n",
       "      <th>3</th>\n",
       "      <th>4</th>\n",
       "      <th>5</th>\n",
       "      <th>6</th>\n",
       "      <th>7</th>\n",
       "      <th>8</th>\n",
       "      <th>9</th>\n",
       "      <th>...</th>\n",
       "      <th>3949</th>\n",
       "      <th>3950</th>\n",
       "      <th>3951</th>\n",
       "      <th>3952</th>\n",
       "      <th>3953</th>\n",
       "      <th>3954</th>\n",
       "      <th>3955</th>\n",
       "      <th>3956</th>\n",
       "      <th>3957</th>\n",
       "      <th>3958</th>\n",
       "    </tr>\n",
       "  </thead>\n",
       "  <tbody>\n",
       "    <tr>\n",
       "      <th>0</th>\n",
       "      <td>1.000000</td>\n",
       "      <td>0.000000</td>\n",
       "      <td>0.000000</td>\n",
       "      <td>0.024419</td>\n",
       "      <td>0.050016</td>\n",
       "      <td>0.043581</td>\n",
       "      <td>0.083388</td>\n",
       "      <td>0.024419</td>\n",
       "      <td>0.000000</td>\n",
       "      <td>0.031404</td>\n",
       "      <td>...</td>\n",
       "      <td>0.000000</td>\n",
       "      <td>0.059470</td>\n",
       "      <td>0.038837</td>\n",
       "      <td>0.071611</td>\n",
       "      <td>0.000000</td>\n",
       "      <td>0.000000</td>\n",
       "      <td>0.000000</td>\n",
       "      <td>0.0</td>\n",
       "      <td>0.065372</td>\n",
       "      <td>0.056614</td>\n",
       "    </tr>\n",
       "    <tr>\n",
       "      <th>1</th>\n",
       "      <td>0.000000</td>\n",
       "      <td>1.000000</td>\n",
       "      <td>0.000000</td>\n",
       "      <td>0.025777</td>\n",
       "      <td>0.026398</td>\n",
       "      <td>0.046004</td>\n",
       "      <td>0.198053</td>\n",
       "      <td>0.051554</td>\n",
       "      <td>0.054133</td>\n",
       "      <td>0.033150</td>\n",
       "      <td>...</td>\n",
       "      <td>0.084515</td>\n",
       "      <td>0.031388</td>\n",
       "      <td>0.040996</td>\n",
       "      <td>0.075593</td>\n",
       "      <td>0.000000</td>\n",
       "      <td>0.070491</td>\n",
       "      <td>0.122988</td>\n",
       "      <td>0.0</td>\n",
       "      <td>0.000000</td>\n",
       "      <td>0.000000</td>\n",
       "    </tr>\n",
       "    <tr>\n",
       "      <th>2</th>\n",
       "      <td>0.000000</td>\n",
       "      <td>0.000000</td>\n",
       "      <td>1.000000</td>\n",
       "      <td>0.096449</td>\n",
       "      <td>0.049386</td>\n",
       "      <td>0.021517</td>\n",
       "      <td>0.000000</td>\n",
       "      <td>0.000000</td>\n",
       "      <td>0.025318</td>\n",
       "      <td>0.031009</td>\n",
       "      <td>...</td>\n",
       "      <td>0.000000</td>\n",
       "      <td>0.000000</td>\n",
       "      <td>0.000000</td>\n",
       "      <td>0.000000</td>\n",
       "      <td>0.000000</td>\n",
       "      <td>0.000000</td>\n",
       "      <td>0.076696</td>\n",
       "      <td>0.0</td>\n",
       "      <td>0.064550</td>\n",
       "      <td>0.000000</td>\n",
       "    </tr>\n",
       "    <tr>\n",
       "      <th>3</th>\n",
       "      <td>0.024419</td>\n",
       "      <td>0.025777</td>\n",
       "      <td>0.096449</td>\n",
       "      <td>1.000000</td>\n",
       "      <td>0.071449</td>\n",
       "      <td>0.062257</td>\n",
       "      <td>0.059561</td>\n",
       "      <td>0.046512</td>\n",
       "      <td>0.000000</td>\n",
       "      <td>0.000000</td>\n",
       "      <td>...</td>\n",
       "      <td>0.076249</td>\n",
       "      <td>0.028318</td>\n",
       "      <td>0.000000</td>\n",
       "      <td>0.000000</td>\n",
       "      <td>0.032513</td>\n",
       "      <td>0.063596</td>\n",
       "      <td>0.036986</td>\n",
       "      <td>0.0</td>\n",
       "      <td>0.186772</td>\n",
       "      <td>0.053916</td>\n",
       "    </tr>\n",
       "    <tr>\n",
       "      <th>4</th>\n",
       "      <td>0.050016</td>\n",
       "      <td>0.026398</td>\n",
       "      <td>0.049386</td>\n",
       "      <td>0.071449</td>\n",
       "      <td>1.000000</td>\n",
       "      <td>0.021253</td>\n",
       "      <td>0.020332</td>\n",
       "      <td>0.047633</td>\n",
       "      <td>0.000000</td>\n",
       "      <td>0.030628</td>\n",
       "      <td>...</td>\n",
       "      <td>0.000000</td>\n",
       "      <td>0.029001</td>\n",
       "      <td>0.000000</td>\n",
       "      <td>0.000000</td>\n",
       "      <td>0.033296</td>\n",
       "      <td>0.032564</td>\n",
       "      <td>0.000000</td>\n",
       "      <td>0.0</td>\n",
       "      <td>0.127515</td>\n",
       "      <td>0.110432</td>\n",
       "    </tr>\n",
       "    <tr>\n",
       "      <th>...</th>\n",
       "      <td>...</td>\n",
       "      <td>...</td>\n",
       "      <td>...</td>\n",
       "      <td>...</td>\n",
       "      <td>...</td>\n",
       "      <td>...</td>\n",
       "      <td>...</td>\n",
       "      <td>...</td>\n",
       "      <td>...</td>\n",
       "      <td>...</td>\n",
       "      <td>...</td>\n",
       "      <td>...</td>\n",
       "      <td>...</td>\n",
       "      <td>...</td>\n",
       "      <td>...</td>\n",
       "      <td>...</td>\n",
       "      <td>...</td>\n",
       "      <td>...</td>\n",
       "      <td>...</td>\n",
       "      <td>...</td>\n",
       "      <td>...</td>\n",
       "    </tr>\n",
       "    <tr>\n",
       "      <th>3954</th>\n",
       "      <td>0.000000</td>\n",
       "      <td>0.070491</td>\n",
       "      <td>0.000000</td>\n",
       "      <td>0.063596</td>\n",
       "      <td>0.032564</td>\n",
       "      <td>0.085126</td>\n",
       "      <td>0.027146</td>\n",
       "      <td>0.031798</td>\n",
       "      <td>0.033389</td>\n",
       "      <td>0.040893</td>\n",
       "      <td>...</td>\n",
       "      <td>0.104257</td>\n",
       "      <td>0.077440</td>\n",
       "      <td>0.000000</td>\n",
       "      <td>0.093250</td>\n",
       "      <td>0.044455</td>\n",
       "      <td>1.000000</td>\n",
       "      <td>0.050572</td>\n",
       "      <td>0.0</td>\n",
       "      <td>0.085126</td>\n",
       "      <td>0.073721</td>\n",
       "    </tr>\n",
       "    <tr>\n",
       "      <th>3955</th>\n",
       "      <td>0.000000</td>\n",
       "      <td>0.122988</td>\n",
       "      <td>0.076696</td>\n",
       "      <td>0.036986</td>\n",
       "      <td>0.000000</td>\n",
       "      <td>0.033005</td>\n",
       "      <td>0.126302</td>\n",
       "      <td>0.000000</td>\n",
       "      <td>0.155347</td>\n",
       "      <td>0.095130</td>\n",
       "      <td>...</td>\n",
       "      <td>0.121268</td>\n",
       "      <td>0.090075</td>\n",
       "      <td>0.117647</td>\n",
       "      <td>0.108465</td>\n",
       "      <td>0.000000</td>\n",
       "      <td>0.050572</td>\n",
       "      <td>1.000000</td>\n",
       "      <td>0.0</td>\n",
       "      <td>0.099015</td>\n",
       "      <td>0.000000</td>\n",
       "    </tr>\n",
       "    <tr>\n",
       "      <th>3956</th>\n",
       "      <td>0.000000</td>\n",
       "      <td>0.000000</td>\n",
       "      <td>0.000000</td>\n",
       "      <td>0.000000</td>\n",
       "      <td>0.000000</td>\n",
       "      <td>0.000000</td>\n",
       "      <td>0.000000</td>\n",
       "      <td>0.000000</td>\n",
       "      <td>0.000000</td>\n",
       "      <td>0.000000</td>\n",
       "      <td>...</td>\n",
       "      <td>0.000000</td>\n",
       "      <td>0.000000</td>\n",
       "      <td>0.000000</td>\n",
       "      <td>0.000000</td>\n",
       "      <td>0.000000</td>\n",
       "      <td>0.000000</td>\n",
       "      <td>0.000000</td>\n",
       "      <td>1.0</td>\n",
       "      <td>0.000000</td>\n",
       "      <td>0.000000</td>\n",
       "    </tr>\n",
       "    <tr>\n",
       "      <th>3957</th>\n",
       "      <td>0.065372</td>\n",
       "      <td>0.000000</td>\n",
       "      <td>0.064550</td>\n",
       "      <td>0.186772</td>\n",
       "      <td>0.127515</td>\n",
       "      <td>0.055556</td>\n",
       "      <td>0.000000</td>\n",
       "      <td>0.062257</td>\n",
       "      <td>0.000000</td>\n",
       "      <td>0.000000</td>\n",
       "      <td>...</td>\n",
       "      <td>0.000000</td>\n",
       "      <td>0.075810</td>\n",
       "      <td>0.000000</td>\n",
       "      <td>0.000000</td>\n",
       "      <td>0.087039</td>\n",
       "      <td>0.085126</td>\n",
       "      <td>0.099015</td>\n",
       "      <td>0.0</td>\n",
       "      <td>1.000000</td>\n",
       "      <td>0.144338</td>\n",
       "    </tr>\n",
       "    <tr>\n",
       "      <th>3958</th>\n",
       "      <td>0.056614</td>\n",
       "      <td>0.000000</td>\n",
       "      <td>0.000000</td>\n",
       "      <td>0.053916</td>\n",
       "      <td>0.110432</td>\n",
       "      <td>0.048113</td>\n",
       "      <td>0.046029</td>\n",
       "      <td>0.107833</td>\n",
       "      <td>0.000000</td>\n",
       "      <td>0.000000</td>\n",
       "      <td>...</td>\n",
       "      <td>0.000000</td>\n",
       "      <td>0.065653</td>\n",
       "      <td>0.000000</td>\n",
       "      <td>0.158114</td>\n",
       "      <td>0.075378</td>\n",
       "      <td>0.073721</td>\n",
       "      <td>0.000000</td>\n",
       "      <td>0.0</td>\n",
       "      <td>0.144338</td>\n",
       "      <td>1.000000</td>\n",
       "    </tr>\n",
       "  </tbody>\n",
       "</table>\n",
       "<p>3959 rows × 3959 columns</p>\n",
       "</div>"
      ],
      "text/plain": [
       "          0         1         2         3         4         5         6     \\\n",
       "0     1.000000  0.000000  0.000000  0.024419  0.050016  0.043581  0.083388   \n",
       "1     0.000000  1.000000  0.000000  0.025777  0.026398  0.046004  0.198053   \n",
       "2     0.000000  0.000000  1.000000  0.096449  0.049386  0.021517  0.000000   \n",
       "3     0.024419  0.025777  0.096449  1.000000  0.071449  0.062257  0.059561   \n",
       "4     0.050016  0.026398  0.049386  0.071449  1.000000  0.021253  0.020332   \n",
       "...        ...       ...       ...       ...       ...       ...       ...   \n",
       "3954  0.000000  0.070491  0.000000  0.063596  0.032564  0.085126  0.027146   \n",
       "3955  0.000000  0.122988  0.076696  0.036986  0.000000  0.033005  0.126302   \n",
       "3956  0.000000  0.000000  0.000000  0.000000  0.000000  0.000000  0.000000   \n",
       "3957  0.065372  0.000000  0.064550  0.186772  0.127515  0.055556  0.000000   \n",
       "3958  0.056614  0.000000  0.000000  0.053916  0.110432  0.048113  0.046029   \n",
       "\n",
       "          7         8         9     ...      3949      3950      3951  \\\n",
       "0     0.024419  0.000000  0.031404  ...  0.000000  0.059470  0.038837   \n",
       "1     0.051554  0.054133  0.033150  ...  0.084515  0.031388  0.040996   \n",
       "2     0.000000  0.025318  0.031009  ...  0.000000  0.000000  0.000000   \n",
       "3     0.046512  0.000000  0.000000  ...  0.076249  0.028318  0.000000   \n",
       "4     0.047633  0.000000  0.030628  ...  0.000000  0.029001  0.000000   \n",
       "...        ...       ...       ...  ...       ...       ...       ...   \n",
       "3954  0.031798  0.033389  0.040893  ...  0.104257  0.077440  0.000000   \n",
       "3955  0.000000  0.155347  0.095130  ...  0.121268  0.090075  0.117647   \n",
       "3956  0.000000  0.000000  0.000000  ...  0.000000  0.000000  0.000000   \n",
       "3957  0.062257  0.000000  0.000000  ...  0.000000  0.075810  0.000000   \n",
       "3958  0.107833  0.000000  0.000000  ...  0.000000  0.065653  0.000000   \n",
       "\n",
       "          3952      3953      3954      3955  3956      3957      3958  \n",
       "0     0.071611  0.000000  0.000000  0.000000   0.0  0.065372  0.056614  \n",
       "1     0.075593  0.000000  0.070491  0.122988   0.0  0.000000  0.000000  \n",
       "2     0.000000  0.000000  0.000000  0.076696   0.0  0.064550  0.000000  \n",
       "3     0.000000  0.032513  0.063596  0.036986   0.0  0.186772  0.053916  \n",
       "4     0.000000  0.033296  0.032564  0.000000   0.0  0.127515  0.110432  \n",
       "...        ...       ...       ...       ...   ...       ...       ...  \n",
       "3954  0.093250  0.044455  1.000000  0.050572   0.0  0.085126  0.073721  \n",
       "3955  0.108465  0.000000  0.050572  1.000000   0.0  0.099015  0.000000  \n",
       "3956  0.000000  0.000000  0.000000  0.000000   1.0  0.000000  0.000000  \n",
       "3957  0.000000  0.087039  0.085126  0.099015   0.0  1.000000  0.144338  \n",
       "3958  0.158114  0.075378  0.073721  0.000000   0.0  0.144338  1.000000  \n",
       "\n",
       "[3959 rows x 3959 columns]"
      ]
     },
     "execution_count": 28,
     "metadata": {},
     "output_type": "execute_result"
    }
   ],
   "source": [
    "cos_results = cosine_similarity(vectorized.toarray())\n",
    "pd.DataFrame(cos_results)"
   ]
  },
  {
   "cell_type": "markdown",
   "id": "8710392e",
   "metadata": {},
   "source": [
    "<ul>\n",
    "    <li>Now that we have the cosine similarity table for each movie, we can retrieve the movie ID that the user just watched and find its similarity with other movies.</li>\n",
    "</ul>"
   ]
  },
  {
   "cell_type": "code",
   "execution_count": 29,
   "id": "4004f9c3",
   "metadata": {},
   "outputs": [
    {
     "data": {
      "text/plain": [
       "['Iron Man',\n",
       " 'The Man in the Iron Mask',\n",
       " 'Gridiron Gang',\n",
       " 'Iron Man 2',\n",
       " 'The Iron Giant',\n",
       " 'Ironclad',\n",
       " 'Iron Man 3',\n",
       " 'The Iron Lady',\n",
       " 'The Man with the Iron Fists']"
      ]
     },
     "execution_count": 29,
     "metadata": {},
     "output_type": "execute_result"
    }
   ],
   "source": [
    "[x for x in keywords_taglines_genres[\"original_title\"] if 'iron' in x.lower()]"
   ]
  },
  {
   "cell_type": "markdown",
   "id": "16d3b309",
   "metadata": {},
   "source": [
    "<ul>\n",
    "    <li>Now i'll create a function for my hybrid recommender system. Just by using the title of the movie, the recommender system will suggests top 5 movies that user has just watched. </li>\n",
    "    <li>Once we obtain the movie index, we can utilize the cosine_similarity matrix to determine the 100 most similar movies to the movie ID that the user watched. </li>\n",
    "    <li>Next, we will select the top 50 movies from the 100 movies based on their vote counts.\n",
    "To achieve this, we will use the vote average approach, where the Weighted Rating (WR) is calculated using the formula:\n",
    "\n",
    " Weighted Rating (WR) = (v / (v + m)) * R + (m / (v + m)) * C\n",
    "We will now create a new dataframe for this purpose.</li>\n",
    "    <li>C = Mean vote (or rating) across all movies. </li>\n",
    "    <li>m = Minimum votes (or ratings) required for the movie to be considered. </li>\n",
    "    <li>Function WR = Calculate the weighted average ratings using the provided formula. </li>\n",
    "    <li>Sort the values and pick the highest scores to select the top 50 movies for recommendation. </li>\n",
    "    <li>Filter the movies based on their content similarity, and for this, we'll be using the movie overview. </li>\n",
    "    <li>To ensure that the user's watched movie is among the top 50, we will manually add it if it is not already there, as we need its overview for comparison. It appears that the movie is already included, as indicated by the \"true\" output. </li>\n",
    "    <li>To start with, in this scenario, I need to eliminate any numbers or symbols from the overview sentences and convert them all to lowercase.</li>\n",
    "    <li>Let's now proceed with extracting their features. The main difference between CountVectorizer and TfidfVectorizer is that CountVectorizer only counts the occurrences of each word in the document, while TfidfVectorizer considers the frequency of a word across all documents. TfidfVectorizer is better at identifying the most important words in a document or a corpus.</li>\n",
    "    <li>The cosine similarity can now be computed between them.</li>\n",
    "    <li>Let's now retrieve the movie index that we want to examine from the similarity table.\n",
    "It's worth noting that each row in the table contains the similarities of that particular row to all the available movies in the table.</li>\n",
    "    "
   ]
  },
  {
   "cell_type": "code",
   "execution_count": 30,
   "id": "7465c4ac",
   "metadata": {},
   "outputs": [],
   "source": [
    "# Function for hybrid movie recommender sys.\n",
    "\n",
    "def Hybrid_recommender(Movie):\n",
    "    movie_title = Movie\n",
    "    \n",
    "    # Obtain Movie Index and determine 100 movies similar to index.\n",
    "    \n",
    "    movie_index = [index for index, x in enumerate(keywords_taglines_genres[\"original_title\"] == movie_title) if x == True][0]\n",
    "    top_100_movies = sorted(list(enumerate(cos_results[movie_index])), key=lambda x: x[1], reverse=True)[:100]\n",
    "    \n",
    "    # Top 50 movies from the 100 movies based on their vote counts (Weighted Rating method).\n",
    "    \n",
    "    top_movies = pd.DataFrame(np.squeeze(keywords_taglines_genres.values[[np.array(top_100_movies)[:, 0].astype(int)]]), columns=keywords_taglines_genres.columns)\n",
    "    second_filters = top_movies.merge(datasets, on=\"id\", how=\"inner\")\n",
    "    weight_averaged_method = second_filters[[\"id\", \"original_title_x\", \"vote_average\", \"vote_count\"]]\n",
    "    weight_averaged_method['R'] = weight_averaged_method.vote_average\n",
    "    C = weight_averaged_method.R.mean()\n",
    "    weight_averaged_method['v'] = weight_averaged_method.vote_count\n",
    "    PERCENTAGE = .95 # set to 95%\n",
    "    m = weight_averaged_method.v.quantile(PERCENTAGE)\n",
    "    def WR(query):\n",
    "        R = query.R\n",
    "        v = query.v\n",
    "        return (v / (v + m)) * R + (m / (v + m)) * C\n",
    "    weight_averaged_method[\"WR\"] = weight_averaged_method.apply(WR, axis=1)\n",
    "    weight_averaged_method = weight_averaged_method.sort_values(\"WR\", ascending=False)\n",
    "    weight_averaged_method.reset_index(drop=True, inplace=True)\n",
    "    top_50_movies = weight_averaged_method.head(50)\n",
    "    \n",
    "    # Filter the movies based on their content similarity\n",
    "    \n",
    "    contentbased = top_50_movies.merge(datasets[[\"id\", \"overview\"]], on=\"id\", how=\"inner\")[[\"id\", \"original_title_x\", \"overview\"]]\n",
    "    contentbased.columns = [\"id\", \"original_title\", \"overview\"]\n",
    "    check_movie_exist = True in list(contentbased.original_title == movie_title) \n",
    "    add_title = datasets[[\"id\", \"original_title\", \"overview\"]][datasets[[\"id\", \"original_title\", \"overview\"]].original_title == movie_title]\n",
    "    def func(row):\n",
    "        text = row.overview.lower()\n",
    "        text = ' ' . join(re.findall(r\"[a-z]+\", text))\n",
    "        return text\n",
    "    contentbased[\"overview_cleaned\"] = contentbased.apply(func, axis=1)\n",
    "    \n",
    "    # Extracting their features.\n",
    "    \n",
    "    tfidf = TfidfVectorizer(stop_words='english')\n",
    "    tfidf_features = tfidf.fit_transform(contentbased.overview_cleaned)\n",
    "    tfidf_features.toarray()\n",
    "    \n",
    "    # Cosine similarity can now be computed between them.\n",
    "    \n",
    "    cosine_similarity_tbls = cosine_similarity(tfidf_features)\n",
    "    movie_index = [index for index, x in enumerate(contentbased[\"original_title\"] == movie_title) if x == True][0]\n",
    "    \n",
    "    # Let's now retrieve the movie index that we want to examine from the similarity table.\n",
    "    \n",
    "    top_movies = pd.DataFrame(list(sorted(enumerate(cosine_similarity_tbls[movie_index]), key=lambda x: x[1], reverse=True)))\n",
    "    top_movies.columns = [\"top_index\", \"cosine_similarity\"]\n",
    "    top_5_movies = pd.DataFrame(contentbased[[\"id\", \"original_title\"]].values[top_movies.top_index[:6]], columns=[\"id\", \"original_title\"]) \n",
    "    print(top_5_movies)\n",
    "    print(f\"The movies related to the {movie_title} movie that the user just watched are ...\\n\")\n",
    "    for i in top_5_movies.values[1:]:\n",
    "        print(i[1])"
   ]
  },
  {
   "cell_type": "markdown",
   "id": "aff598fe",
   "metadata": {},
   "source": [
    "<ul>\n",
    "<li>We have obtained the final output of our basic movie recommendation system!. There are various ways to tackle this problem. In this approach, I am finding the movies sequentially based on the previous results.</li>\n",
    "</ul>"
   ]
  },
  {
   "cell_type": "code",
   "execution_count": 31,
   "id": "c2d98941",
   "metadata": {},
   "outputs": [
    {
     "name": "stdout",
     "output_type": "stream",
     "text": [
      "       id                     original_title\n",
      "0   10386                     The Iron Giant\n",
      "1  294272                      Pete's Dragon\n",
      "2    9023   Spirit: Stallion of the Cimarron\n",
      "3   22794  Cloudy with a Chance of Meatballs\n",
      "4      62              2001: A Space Odyssey\n",
      "5   12244                                  9\n",
      "The movies related to the The Iron Giant movie that the user just watched are ...\n",
      "\n",
      "Pete's Dragon\n",
      "Spirit: Stallion of the Cimarron\n",
      "Cloudy with a Chance of Meatballs\n",
      "2001: A Space Odyssey\n",
      "9\n"
     ]
    },
    {
     "name": "stderr",
     "output_type": "stream",
     "text": [
      "C:\\Users\\win 10\\AppData\\Local\\Temp\\ipykernel_22868\\2406449351.py:16: SettingWithCopyWarning: \n",
      "A value is trying to be set on a copy of a slice from a DataFrame.\n",
      "Try using .loc[row_indexer,col_indexer] = value instead\n",
      "\n",
      "See the caveats in the documentation: https://pandas.pydata.org/pandas-docs/stable/user_guide/indexing.html#returning-a-view-versus-a-copy\n",
      "  weight_averaged_method['R'] = weight_averaged_method.vote_average\n",
      "C:\\Users\\win 10\\AppData\\Local\\Temp\\ipykernel_22868\\2406449351.py:18: SettingWithCopyWarning: \n",
      "A value is trying to be set on a copy of a slice from a DataFrame.\n",
      "Try using .loc[row_indexer,col_indexer] = value instead\n",
      "\n",
      "See the caveats in the documentation: https://pandas.pydata.org/pandas-docs/stable/user_guide/indexing.html#returning-a-view-versus-a-copy\n",
      "  weight_averaged_method['v'] = weight_averaged_method.vote_count\n",
      "C:\\Users\\win 10\\AppData\\Local\\Temp\\ipykernel_22868\\2406449351.py:25: SettingWithCopyWarning: \n",
      "A value is trying to be set on a copy of a slice from a DataFrame.\n",
      "Try using .loc[row_indexer,col_indexer] = value instead\n",
      "\n",
      "See the caveats in the documentation: https://pandas.pydata.org/pandas-docs/stable/user_guide/indexing.html#returning-a-view-versus-a-copy\n",
      "  weight_averaged_method[\"WR\"] = weight_averaged_method.apply(WR, axis=1)\n"
     ]
    }
   ],
   "source": [
    "Hybrid_recommender(\"The Iron Giant\")"
   ]
  },
  {
   "cell_type": "code",
   "execution_count": 32,
   "id": "9b022e85",
   "metadata": {},
   "outputs": [],
   "source": [
    "import pickle"
   ]
  },
  {
   "cell_type": "code",
   "execution_count": 33,
   "id": "23eecf3b",
   "metadata": {},
   "outputs": [],
   "source": [
    "pickle.dump(keywords_taglines_genres.to_dict(),open(\"movies_dict.pkl\",\"wb\"))"
   ]
  },
  {
   "cell_type": "code",
   "execution_count": 34,
   "id": "d6aa5c6f",
   "metadata": {},
   "outputs": [],
   "source": [
    "pickle.dump(cos_results,open(\"similarity.pkl\",\"wb\"))"
   ]
  },
  {
   "cell_type": "code",
   "execution_count": 35,
   "id": "ed7c7153",
   "metadata": {},
   "outputs": [],
   "source": [
    "pickle.dump(datasets.to_dict(),open(\"datasets_dict.pkl\",\"wb\"))"
   ]
  }
 ],
 "metadata": {
  "kernelspec": {
   "display_name": "Python 3 (ipykernel)",
   "language": "python",
   "name": "python3"
  },
  "language_info": {
   "codemirror_mode": {
    "name": "ipython",
    "version": 3
   },
   "file_extension": ".py",
   "mimetype": "text/x-python",
   "name": "python",
   "nbconvert_exporter": "python",
   "pygments_lexer": "ipython3",
   "version": "3.11.3"
  }
 },
 "nbformat": 4,
 "nbformat_minor": 5
}
